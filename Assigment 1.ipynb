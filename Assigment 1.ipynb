{
 "cells": [
  {
   "cell_type": "code",
   "execution_count": null,
   "id": "3b3a022c",
   "metadata": {},
   "outputs": [],
   "source": [
    "Descriptive Analysis:\n",
    "I (Bijata)  recently visited a popular restaurant with my spouse on recommendation of my friend. I experienced bad service and rude behavior from staff.\n",
    "\n",
    "Diagonostic Analysis\n",
    "On that day the restaurant had few number of staff available at that time, who were struggling to provide service. As I was exhausted and starving, due the service being late which led to an argument between me and a staff member, and later on I got to know that the same staff who also had previously received negative feedback from other customers as well. I had high expectation from the place but was not achieved. As my satisfaction level from the restaurant dropped so I rated the restaurant with 1 star later on.\n",
    "\n",
    "Predictive Analysis\n",
    "When I was about to leave the restaurants I coincidently happens to meet the Manager of the restaurant and explain him about the situation. I made him aware that if the service goes on to be like the same way in the future then the restaurant might lose their loyal and regular customer. Customers dissatisfaction and complaints will definitely increase and more negative reviews may be posted online which may result to effect in brand image and reputation.\n",
    "\n",
    "Prescriptive Analysis\n",
    "So I recommend him to increase number of staff during peak hours and weekends, provide customer service training, hire part-time staff for high-demand periods, collect real time feedback from customers to monitor service quality as well as employ customer service experts to improve guest experience and retain their customer.\n"
   ]
  }
 ],
 "metadata": {
  "kernelspec": {
   "display_name": "Python 3 (ipykernel)",
   "language": "python",
   "name": "python3"
  },
  "language_info": {
   "codemirror_mode": {
    "name": "ipython",
    "version": 3
   },
   "file_extension": ".py",
   "mimetype": "text/x-python",
   "name": "python",
   "nbconvert_exporter": "python",
   "pygments_lexer": "ipython3",
   "version": "3.9.12"
  }
 },
 "nbformat": 4,
 "nbformat_minor": 5
}
