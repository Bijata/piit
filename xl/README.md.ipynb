{
 "cells": [
  {
   "cell_type": "markdown",
   "id": "133dcf23",
   "metadata": {},
   "source": [
    "- https://docs.google.com/spreadsheets/d/1YgtcWWLJG-EZHKWTTBts_M885YtEznFLyqbA5zP7PUI/edit?gid=81577032#gid=81577032"
   ]
  }
 ],
 "metadata": {
  "kernelspec": {
   "display_name": "Python 3 (ipykernel)",
   "language": "python",
   "name": "python3"
  },
  "language_info": {
   "codemirror_mode": {
    "name": "ipython",
    "version": 3
   },
   "file_extension": ".py",
   "mimetype": "text/x-python",
   "name": "python",
   "nbconvert_exporter": "python",
   "pygments_lexer": "ipython3",
   "version": "3.9.12"
  }
 },
 "nbformat": 4,
 "nbformat_minor": 5
}
