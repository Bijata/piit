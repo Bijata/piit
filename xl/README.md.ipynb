{
 "cells": [
  {
   "cell_type": "markdown",
   "id": "fb57312b",
   "metadata": {},
   "source": [
    "- https://docs.google.com/spreadsheets/d/1YgtcWWLJG-EZHKWTTBts_M885YtEznFLyqbA5zP7PUI/edit?gid=81577032#gid=81577032"
   ]
  },
  {
   "cell_type": "code",
   "execution_count": null,
   "id": "6b29ec97",
   "metadata": {},
   "outputs": [],
   "source": []
  },
  {
   "cell_type": "code",
   "execution_count": null,
   "id": "edbe5798",
   "metadata": {},
   "outputs": [],
   "source": []
  }
 ],
 "metadata": {
  "kernelspec": {
   "display_name": "Python 3 (ipykernel)",
   "language": "python",
   "name": "python3"
  },
  "language_info": {
   "codemirror_mode": {
    "name": "ipython",
    "version": 3
   },
   "file_extension": ".py",
   "mimetype": "text/x-python",
   "name": "python",
   "nbconvert_exporter": "python",
   "pygments_lexer": "ipython3",
   "version": "3.9.12"
  }
 },
 "nbformat": 4,
 "nbformat_minor": 5
}
