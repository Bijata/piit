{
 "cells": [
  {
   "cell_type": "code",
   "execution_count": 3,
   "id": "0b8b9e0a-b601-4768-9c67-008c235477cb",
   "metadata": {},
   "outputs": [
    {
     "name": "stdout",
     "output_type": "stream",
     "text": [
      "Requirement already satisfied: pydataset in c:\\users\\akshansh\\anaconda3\\lib\\site-packages (0.2.0)\n",
      "Requirement already satisfied: pandas in c:\\users\\akshansh\\anaconda3\\lib\\site-packages (from pydataset) (1.4.2)\n",
      "Requirement already satisfied: python-dateutil>=2.8.1 in c:\\users\\akshansh\\anaconda3\\lib\\site-packages (from pandas->pydataset) (2.8.2)\n",
      "Requirement already satisfied: pytz>=2020.1 in c:\\users\\akshansh\\anaconda3\\lib\\site-packages (from pandas->pydataset) (2021.3)\n",
      "Requirement already satisfied: numpy>=1.18.5 in c:\\users\\akshansh\\appdata\\roaming\\python\\python39\\site-packages (from pandas->pydataset) (1.22.4)\n",
      "Requirement already satisfied: six>=1.5 in c:\\users\\akshansh\\anaconda3\\lib\\site-packages (from python-dateutil>=2.8.1->pandas->pydataset) (1.16.0)\n"
     ]
    },
    {
     "name": "stderr",
     "output_type": "stream",
     "text": [
      "\n",
      "[notice] A new release of pip is available: 25.1.1 -> 25.2\n",
      "[notice] To update, run: python.exe -m pip install --upgrade pip\n"
     ]
    }
   ],
   "source": [
    "!pip install pydataset"
   ]
  },
  {
   "cell_type": "code",
   "execution_count": null,
   "id": "f7e8c33a-d181-41d8-a5f3-66f9d4dfafa8",
   "metadata": {},
   "outputs": [],
   "source": [
    "import pandas as pd\n",
    "import numpy as np\n",
    "import matplotlib.pyplot as plt\n",
    "import seaborn as sns\n",
    "import plotly.express as px\n",
    "from pydataset import data"
   ]
  },
  {
   "cell_type": "code",
   "execution_count": 5,
   "id": "5ab30f9a-e393-4c65-ae88-c24b65c49858",
   "metadata": {},
   "outputs": [],
   "source": [
    "plt.close('all') # old figures stay in memory, and if you do plt.show() without closing them, all the figures may be shown at once or eat up memory"
   ]
  },
  {
   "cell_type": "code",
   "execution_count": 6,
   "id": "a3f68e6c-2bb4-40f2-b7b8-c80ad2cba951",
   "metadata": {},
   "outputs": [
    {
     "name": "stdout",
     "output_type": "stream",
     "text": [
      "        dataset_id                                             title\n",
      "0    AirPassengers       Monthly Airline Passenger Numbers 1949-1960\n",
      "1          BJsales                 Sales Data with Leading Indicator\n",
      "2              BOD                         Biochemical Oxygen Demand\n",
      "3     Formaldehyde                     Determination of Formaldehyde\n",
      "4     HairEyeColor         Hair and Eye Color of Statistics Students\n",
      "..             ...                                               ...\n",
      "752        VerbAgg                  Verbal Aggression item responses\n",
      "753           cake                 Breakage Angle of Chocolate Cakes\n",
      "754           cbpp                 Contagious bovine pleuropneumonia\n",
      "755    grouseticks  Data on red grouse ticks from Elston et al. 2001\n",
      "756     sleepstudy       Reaction times in a sleep deprivation study\n",
      "\n",
      "[757 rows x 2 columns]\n"
     ]
    }
   ],
   "source": [
    "print(data())"
   ]
  },
  {
   "cell_type": "code",
   "execution_count": 7,
   "id": "95c66a08-5b51-4d61-bcb7-6b71a3803e19",
   "metadata": {},
   "outputs": [
    {
     "data": {
      "text/plain": [
       "'AirPassengers,BJsales,BOD,Formaldehyde,HairEyeColor,InsectSprays,JohnsonJohnson,LakeHuron,LifeCycleSavings,Nile,OrchardSprays,PlantGrowth,Puromycin,Titanic,ToothGrowth,UCBAdmissions,UKDriverDeaths,UKgas,USAccDeaths,USArrests,USJudgeRatings,USPersonalExpenditure,VADeaths,WWWusage,WorldPhones,airmiles,airquality,anscombe,attenu,attitude,austres,cars,chickwts,co2,crimtab,discoveries,esoph,euro,faithful,freeny,infert,iris,islands,lh,longley,lynx,morley,mtcars,nhtemp,nottem,npk,occupationalStatus,precip,presidents,pressure,quakes,randu,rivers,rock,sleep,stackloss,sunspot.month,sunspot.year,sunspots,swiss,treering,trees,uspop,volcano,warpbreaks,women,acme,aids,aircondit,aircondit7,amis,aml,bigcity,brambles,breslow,calcium,cane,capability,catsM,cav,cd4,channing,city,claridge,cloth,co.transfer,coal,darwin,dogs,downs.bc,ducks,fir,frets,grav,gravity,hirose,islay,manaus,melanoma,motor,neuro,nitrofen,nodal,nuclear,paulsen,poisons,polar,remission,salinity,survival,tau,tuna,urine,wool,aids,alloauto,allograft,azt,baboon,bcdeter,bfeed,bmt,bnct,btrial,burn,channing,drug6mp,drughiv,hodg,kidney,kidrecurr,kidtran,larynx,lung,pneumon,psych,rats,std,stddiag,tongue,twins,Animals2,CrohnD,NOxEmissions,SiegelsEx,aircraft,airmay,alcohol,ambientNOxCH,bushfire,carrots,cloud,coleman,condroz,cushny,delivery,education,epilepsy,exAM,foodstamp,hbk,heart,kootenay,lactic,milk,pension,phosphor,pilot,possumDiv,pulpfiber,radarImage,salinity,starsCYG,telef,toxicity,vaso,wagnerGrowth,wood,AMSsurvey,Adler,Angell,Anscombe,Baumann,Bfox,Blackmoor,Burt,CanPop,Chile,Chirot,Cowles,Davis,DavisThin,Depredations,Duncan,Ericksen,Florida,Freedman,Friendly,Ginzberg,Greene,Guyer,Hartnagel,Highway1,Leinhardt,Mandel,Migration,Moore,Mroz,OBrienKaiser,Ornstein,Pottery,Prestige,Quartet,Robey,SLID,Sahlins,Salaries,Soils,States,Transact,UN,USPop,Vocab,WeightLoss,Womenlf,Wool,agriculture,animals,chorSub,flower,plantTraits,pluton,ruspini,votes.repub,xclara,affairs,azcabgptca,azdrg112,azpro,azprocedure,badhealth,fasttrakg,fishing,lbw,lbwgrp,loomis,mdvis,medpar,nuts,rwm,rwm1984,rwm5yr,ships,smoking,titanic,titanicgrp,Accident,Airline,Airq,Benefits,Bids,BudgetFood,BudgetItaly,BudgetUK,Bwages,CPSch3,CRANpackages,Capm,Car,Caschool,Catsup,Cigar,Cigarette,Clothing,Computers,Cracker,Crime,DM,Diamond,Doctor,DoctorAUS,DoctorContacts,Earnings,Electricity,Fair,Fatality,Fishing,Forward,FriendFoe,Garch,Gasoline,Griliches,Grunfeld,HC,HI,Hdma,Heating,Hedonic,Housing,Icecream,Journals,Kakadu,Ketchup,Klein,LaborSupply,Labour,MCAS,Males,Mathlevel,MedExp,Metal,Mode,ModeChoice,Mofa,Mroz,MunExp,NaturalPark,Nerlove,OFP,Oil,PSID,Participation,PatentsHGH,PatentsRD,Pound,Produc,RetSchool,SP500,Schooling,Somerville,Star,Strike,StrikeDur,StrikeNb,SumHes,Tobacco,Train,TranspEq,Treatment,Tuna,USFinanceIndustry,USclassifiedDocuments,USstateAbbreviations,UStaxWords,UnempDur,Unemployment,University,VietNamH,VietNamI,Wages,Wages1,Workinghours,Yen,Yogurt,bankingCrises,incomeInequality,nonEnglishNames,politicalKnowledge,PD,aldh2,apoeapoc,cf,crohn,fa,fsnps,hla,hr1420,l51,lukas,mao,mfblong,mhtdata,nep499,diamonds,economics,midwest,movies,mpg,msleep,presidential,seals,Arbuthnot,Bowley,Cavendish,ChestSizes,CushnyPeebles,CushnyPeeblesN,Dactyl,DrinksWages,Fingerprints,Galton,GaltonFamilies,Guerry,Jevons,Langren.all,Langren1644,Macdonell,MacdonellDF,Michelson,MichelsonSets,Minard.cities,Minard.temp,Minard.troops,Nightingale,OldMaps,PearsonLee,PolioTrials,Prostitutes,Pyx,Quarrels,Snow.deaths,Snow.polygons,Snow.pumps,Snow.streets,Wheat,Wheat.monarchs,Yeast,YeastD.mat,ZeaMays,barley,environmental,ethanol,melanoma,singer,Aids2,Animals,Boston,Cars93,Cushings,DDT,GAGurine,Insurance,Melanoma,OME,Pima.te,Pima.tr,Pima.tr2,Rabbit,Rubber,SP500,Sitka,Sitka89,Skye,Traffic,UScereal,UScrime,VA,abbey,accdeaths,anorexia,bacteria,beav1,beav2,biopsy,birthwt,cabbages,caith,cats,cement,chem,coop,cpus,crabs,deaths,drivers,eagles,epil,farms,fgl,forbes,galaxies,gehan,genotype,geyser,gilgais,hills,housing,immer,leuk,mammals,mcycle,menarche,michelson,minn38,motors,muscle,newcomb,nlschools,npk,npr1,oats,painters,petrol,quine,road,rotifer,ships,shrimp,shuttle,snails,steam,stormer,survey,synth.te,synth.tr,topo,waders,whiteside,wtloss,Cigar,Crime,EmplUK,Gasoline,Grunfeld,Hedonic,LaborSupply,Males,Produc,Snmesp,SumHes,Wages,baseball,AustralianElectionPolling,AustralianElections,EfronMorris,RockTheVote,UKHouseOfCommons,absentee,admit,bioChemists,ca2006,iraqVote,politicalInformation,presidentialElections,prussian,unionDensity,vote92,french_fries,smiths,tips,car.test.frame,car90,cu.summary,kyphosis,solder,stagec,PublicSchools,Bollen,CNES,Klein,Kmenta,Tests,bladder,cancer,cgd,colon,flchain,heart,kidney,leukemia,logan,lung,mgus,nwtco,ovarian,pbc,rats,stanford2,tobin,veteran,Arthritis,Baseball,BrokenMarriage,Bundesliga,Bundestag2005,Butterfly,CoalMiners,DanishWelfare,Employment,Federalist,Hitters,HorseKicks,Hospital,JobSatisfaction,JointSports,Lifeboats,NonResponse,OvaryCancer,PreSex,Punishment,RepVict,Saxony,SexualFun,SpaceShuttle,Suicide,Trucks,UKSoccer,VisualAcuity,VonBort,WeldonDice,WomenQueue,MatchIt.url,PErisk,SupremeCourt,Weimar,Zelig.url,approval,bivariate,coalition,coalition2,eidat,free1,free2,friendship,grunfeld,hoff,homerun,immi1,immi2,immi3,immi4,immi5,immigration,klein,kmenta,macro,mexico,mid,newpainters,sanction,sna.ex,swiss,tobin,turnout,voteincome,BCG,BtheB,CYGOB1,Forbes2000,GHQ,Lanza,agefat,aspirin,birthdeathrates,bladdercancer,clouds,epilepsy,foster,heptathlon,mastectomy,meteo,orallesions,phosphate,pistonrings,planets,plasma,polyps,polyps3,pottery,rearrests,respiratory,roomwidth,schizophrenia,schizophrenia2,schooldays,skulls,smoking,students,suicides,toothpaste,voting,water,watervoles,waves,weightgain,womensrole,Bechtoldt,Bechtoldt.1,Bechtoldt.2,Dwyer,Gleser,Gorsuch,Harman.5,Harman.8,Harman.political,Holzinger,Holzinger.9,Reise,Schmid,Thurstone,Thurstone.33,Tucker,ability,affect,bfi,bfi.dictionary,blot,burt,cities,cubits,cushny,epi,epi.bfi,epi.dictionary,galton,heights,income,iqitems,msq,neo,peas,sat.act,withinBetween,Bosco,CobarOre,Mammals,barro,engel,uis,dietox,koch,ohio,respdis,respiratory,seizure,sitka89,spruce,liver,portpirie,rain,summer,wavesurge,winter,arthritis,housing,bmw,danish,nidd.annual,nidd.thresh,siemens,sp.raw,spto87,Dyestuff,Dyestuff2,InstEval,Pastes,Penicillin,VerbAgg,cake,cbpp,grouseticks,sleepstudy'"
      ]
     },
     "execution_count": 7,
     "metadata": {},
     "output_type": "execute_result"
    }
   ],
   "source": [
    "','.join(data().dataset_id)"
   ]
  },
  {
   "cell_type": "code",
   "execution_count": 8,
   "id": "40da3669-e648-4095-a09f-9b1ce30da693",
   "metadata": {},
   "outputs": [
    {
     "data": {
      "text/html": [
       "<div>\n",
       "<style scoped>\n",
       "    .dataframe tbody tr th:only-of-type {\n",
       "        vertical-align: middle;\n",
       "    }\n",
       "\n",
       "    .dataframe tbody tr th {\n",
       "        vertical-align: top;\n",
       "    }\n",
       "\n",
       "    .dataframe thead th {\n",
       "        text-align: right;\n",
       "    }\n",
       "</style>\n",
       "<table border=\"1\" class=\"dataframe\">\n",
       "  <thead>\n",
       "    <tr style=\"text-align: right;\">\n",
       "      <th></th>\n",
       "      <th>mpg</th>\n",
       "      <th>cyl</th>\n",
       "      <th>disp</th>\n",
       "      <th>hp</th>\n",
       "      <th>drat</th>\n",
       "      <th>wt</th>\n",
       "      <th>qsec</th>\n",
       "      <th>vs</th>\n",
       "      <th>am</th>\n",
       "      <th>gear</th>\n",
       "      <th>carb</th>\n",
       "    </tr>\n",
       "  </thead>\n",
       "  <tbody>\n",
       "    <tr>\n",
       "      <th>Mazda RX4</th>\n",
       "      <td>21.0</td>\n",
       "      <td>6</td>\n",
       "      <td>160.0</td>\n",
       "      <td>110</td>\n",
       "      <td>3.9</td>\n",
       "      <td>2.620</td>\n",
       "      <td>16.46</td>\n",
       "      <td>0</td>\n",
       "      <td>1</td>\n",
       "      <td>4</td>\n",
       "      <td>4</td>\n",
       "    </tr>\n",
       "    <tr>\n",
       "      <th>Mazda RX4 Wag</th>\n",
       "      <td>21.0</td>\n",
       "      <td>6</td>\n",
       "      <td>160.0</td>\n",
       "      <td>110</td>\n",
       "      <td>3.9</td>\n",
       "      <td>2.875</td>\n",
       "      <td>17.02</td>\n",
       "      <td>0</td>\n",
       "      <td>1</td>\n",
       "      <td>4</td>\n",
       "      <td>4</td>\n",
       "    </tr>\n",
       "  </tbody>\n",
       "</table>\n",
       "</div>"
      ],
      "text/plain": [
       "                mpg  cyl   disp   hp  drat     wt   qsec  vs  am  gear  carb\n",
       "Mazda RX4      21.0    6  160.0  110   3.9  2.620  16.46   0   1     4     4\n",
       "Mazda RX4 Wag  21.0    6  160.0  110   3.9  2.875  17.02   0   1     4     4"
      ]
     },
     "execution_count": 8,
     "metadata": {},
     "output_type": "execute_result"
    }
   ],
   "source": [
    "df = data('mtcars')\n",
    "df.head(2)"
   ]
  },
  {
   "cell_type": "code",
   "execution_count": 9,
   "id": "96ec3da8-41ad-40f4-bb46-9c3cd529e5ca",
   "metadata": {},
   "outputs": [
    {
     "data": {
      "text/html": [
       "<div>\n",
       "<style scoped>\n",
       "    .dataframe tbody tr th:only-of-type {\n",
       "        vertical-align: middle;\n",
       "    }\n",
       "\n",
       "    .dataframe tbody tr th {\n",
       "        vertical-align: top;\n",
       "    }\n",
       "\n",
       "    .dataframe thead th {\n",
       "        text-align: right;\n",
       "    }\n",
       "</style>\n",
       "<table border=\"1\" class=\"dataframe\">\n",
       "  <thead>\n",
       "    <tr style=\"text-align: right;\">\n",
       "      <th></th>\n",
       "      <th>mpg</th>\n",
       "      <th>cyl</th>\n",
       "      <th>disp</th>\n",
       "      <th>hp</th>\n",
       "      <th>drat</th>\n",
       "      <th>wt</th>\n",
       "      <th>qsec</th>\n",
       "      <th>vs</th>\n",
       "      <th>am</th>\n",
       "      <th>gear</th>\n",
       "      <th>carb</th>\n",
       "    </tr>\n",
       "  </thead>\n",
       "  <tbody>\n",
       "    <tr>\n",
       "      <th>Maserati Bora</th>\n",
       "      <td>15.0</td>\n",
       "      <td>8</td>\n",
       "      <td>301.0</td>\n",
       "      <td>335</td>\n",
       "      <td>3.54</td>\n",
       "      <td>3.57</td>\n",
       "      <td>14.6</td>\n",
       "      <td>0</td>\n",
       "      <td>1</td>\n",
       "      <td>5</td>\n",
       "      <td>8</td>\n",
       "    </tr>\n",
       "    <tr>\n",
       "      <th>Volvo 142E</th>\n",
       "      <td>21.4</td>\n",
       "      <td>4</td>\n",
       "      <td>121.0</td>\n",
       "      <td>109</td>\n",
       "      <td>4.11</td>\n",
       "      <td>2.78</td>\n",
       "      <td>18.6</td>\n",
       "      <td>1</td>\n",
       "      <td>1</td>\n",
       "      <td>4</td>\n",
       "      <td>2</td>\n",
       "    </tr>\n",
       "  </tbody>\n",
       "</table>\n",
       "</div>"
      ],
      "text/plain": [
       "                mpg  cyl   disp   hp  drat    wt  qsec  vs  am  gear  carb\n",
       "Maserati Bora  15.0    8  301.0  335  3.54  3.57  14.6   0   1     5     8\n",
       "Volvo 142E     21.4    4  121.0  109  4.11  2.78  18.6   1   1     4     2"
      ]
     },
     "execution_count": 9,
     "metadata": {},
     "output_type": "execute_result"
    }
   ],
   "source": [
    "df.tail(2)"
   ]
  },
  {
   "cell_type": "code",
   "execution_count": 10,
   "id": "4ca8386b-6476-4f25-8e6d-f4f0a98c2ed5",
   "metadata": {},
   "outputs": [
    {
     "name": "stdout",
     "output_type": "stream",
     "text": [
      "<class 'pandas.core.frame.DataFrame'>\n",
      "Index: 32 entries, Mazda RX4 to Volvo 142E\n",
      "Data columns (total 11 columns):\n",
      " #   Column  Non-Null Count  Dtype  \n",
      "---  ------  --------------  -----  \n",
      " 0   mpg     32 non-null     float64\n",
      " 1   cyl     32 non-null     int64  \n",
      " 2   disp    32 non-null     float64\n",
      " 3   hp      32 non-null     int64  \n",
      " 4   drat    32 non-null     float64\n",
      " 5   wt      32 non-null     float64\n",
      " 6   qsec    32 non-null     float64\n",
      " 7   vs      32 non-null     int64  \n",
      " 8   am      32 non-null     int64  \n",
      " 9   gear    32 non-null     int64  \n",
      " 10  carb    32 non-null     int64  \n",
      "dtypes: float64(5), int64(6)\n",
      "memory usage: 3.0+ KB\n"
     ]
    }
   ],
   "source": [
    "df.info()"
   ]
  },
  {
   "cell_type": "code",
   "execution_count": 11,
   "id": "f19e7b85-d04a-43d0-9093-f526f3cee00d",
   "metadata": {},
   "outputs": [
    {
     "data": {
      "text/plain": [
       "(32, 11)"
      ]
     },
     "execution_count": 11,
     "metadata": {},
     "output_type": "execute_result"
    }
   ],
   "source": [
    "df.shape"
   ]
  },
  {
   "cell_type": "code",
   "execution_count": 12,
   "id": "3aa48cac-9d30-4e9e-8bc1-623a6eb2a41c",
   "metadata": {},
   "outputs": [
    {
     "data": {
      "text/plain": [
       "mpg     float64\n",
       "cyl       int64\n",
       "disp    float64\n",
       "hp        int64\n",
       "drat    float64\n",
       "wt      float64\n",
       "qsec    float64\n",
       "vs        int64\n",
       "am        int64\n",
       "gear      int64\n",
       "carb      int64\n",
       "dtype: object"
      ]
     },
     "execution_count": 12,
     "metadata": {},
     "output_type": "execute_result"
    }
   ],
   "source": [
    "df.dtypes"
   ]
  },
  {
   "cell_type": "code",
   "execution_count": 13,
   "id": "82b1873d-14ae-44fc-9f01-bc7416b8be9e",
   "metadata": {},
   "outputs": [
    {
     "data": {
      "text/html": [
       "<div>\n",
       "<style scoped>\n",
       "    .dataframe tbody tr th:only-of-type {\n",
       "        vertical-align: middle;\n",
       "    }\n",
       "\n",
       "    .dataframe tbody tr th {\n",
       "        vertical-align: top;\n",
       "    }\n",
       "\n",
       "    .dataframe thead th {\n",
       "        text-align: right;\n",
       "    }\n",
       "</style>\n",
       "<table border=\"1\" class=\"dataframe\">\n",
       "  <thead>\n",
       "    <tr style=\"text-align: right;\">\n",
       "      <th></th>\n",
       "      <th>mpg</th>\n",
       "      <th>cyl</th>\n",
       "      <th>disp</th>\n",
       "      <th>hp</th>\n",
       "      <th>drat</th>\n",
       "      <th>wt</th>\n",
       "      <th>qsec</th>\n",
       "      <th>vs</th>\n",
       "      <th>am</th>\n",
       "      <th>gear</th>\n",
       "      <th>carb</th>\n",
       "    </tr>\n",
       "  </thead>\n",
       "  <tbody>\n",
       "    <tr>\n",
       "      <th>count</th>\n",
       "      <td>32.000000</td>\n",
       "      <td>32.000000</td>\n",
       "      <td>32.000000</td>\n",
       "      <td>32.000000</td>\n",
       "      <td>32.000000</td>\n",
       "      <td>32.000000</td>\n",
       "      <td>32.000000</td>\n",
       "      <td>32.000000</td>\n",
       "      <td>32.000000</td>\n",
       "      <td>32.000000</td>\n",
       "      <td>32.0000</td>\n",
       "    </tr>\n",
       "    <tr>\n",
       "      <th>mean</th>\n",
       "      <td>20.090625</td>\n",
       "      <td>6.187500</td>\n",
       "      <td>230.721875</td>\n",
       "      <td>146.687500</td>\n",
       "      <td>3.596563</td>\n",
       "      <td>3.217250</td>\n",
       "      <td>17.848750</td>\n",
       "      <td>0.437500</td>\n",
       "      <td>0.406250</td>\n",
       "      <td>3.687500</td>\n",
       "      <td>2.8125</td>\n",
       "    </tr>\n",
       "    <tr>\n",
       "      <th>std</th>\n",
       "      <td>6.026948</td>\n",
       "      <td>1.785922</td>\n",
       "      <td>123.938694</td>\n",
       "      <td>68.562868</td>\n",
       "      <td>0.534679</td>\n",
       "      <td>0.978457</td>\n",
       "      <td>1.786943</td>\n",
       "      <td>0.504016</td>\n",
       "      <td>0.498991</td>\n",
       "      <td>0.737804</td>\n",
       "      <td>1.6152</td>\n",
       "    </tr>\n",
       "    <tr>\n",
       "      <th>min</th>\n",
       "      <td>10.400000</td>\n",
       "      <td>4.000000</td>\n",
       "      <td>71.100000</td>\n",
       "      <td>52.000000</td>\n",
       "      <td>2.760000</td>\n",
       "      <td>1.513000</td>\n",
       "      <td>14.500000</td>\n",
       "      <td>0.000000</td>\n",
       "      <td>0.000000</td>\n",
       "      <td>3.000000</td>\n",
       "      <td>1.0000</td>\n",
       "    </tr>\n",
       "    <tr>\n",
       "      <th>25%</th>\n",
       "      <td>15.425000</td>\n",
       "      <td>4.000000</td>\n",
       "      <td>120.825000</td>\n",
       "      <td>96.500000</td>\n",
       "      <td>3.080000</td>\n",
       "      <td>2.581250</td>\n",
       "      <td>16.892500</td>\n",
       "      <td>0.000000</td>\n",
       "      <td>0.000000</td>\n",
       "      <td>3.000000</td>\n",
       "      <td>2.0000</td>\n",
       "    </tr>\n",
       "    <tr>\n",
       "      <th>50%</th>\n",
       "      <td>19.200000</td>\n",
       "      <td>6.000000</td>\n",
       "      <td>196.300000</td>\n",
       "      <td>123.000000</td>\n",
       "      <td>3.695000</td>\n",
       "      <td>3.325000</td>\n",
       "      <td>17.710000</td>\n",
       "      <td>0.000000</td>\n",
       "      <td>0.000000</td>\n",
       "      <td>4.000000</td>\n",
       "      <td>2.0000</td>\n",
       "    </tr>\n",
       "    <tr>\n",
       "      <th>75%</th>\n",
       "      <td>22.800000</td>\n",
       "      <td>8.000000</td>\n",
       "      <td>326.000000</td>\n",
       "      <td>180.000000</td>\n",
       "      <td>3.920000</td>\n",
       "      <td>3.610000</td>\n",
       "      <td>18.900000</td>\n",
       "      <td>1.000000</td>\n",
       "      <td>1.000000</td>\n",
       "      <td>4.000000</td>\n",
       "      <td>4.0000</td>\n",
       "    </tr>\n",
       "    <tr>\n",
       "      <th>max</th>\n",
       "      <td>33.900000</td>\n",
       "      <td>8.000000</td>\n",
       "      <td>472.000000</td>\n",
       "      <td>335.000000</td>\n",
       "      <td>4.930000</td>\n",
       "      <td>5.424000</td>\n",
       "      <td>22.900000</td>\n",
       "      <td>1.000000</td>\n",
       "      <td>1.000000</td>\n",
       "      <td>5.000000</td>\n",
       "      <td>8.0000</td>\n",
       "    </tr>\n",
       "  </tbody>\n",
       "</table>\n",
       "</div>"
      ],
      "text/plain": [
       "             mpg        cyl        disp          hp       drat         wt  \\\n",
       "count  32.000000  32.000000   32.000000   32.000000  32.000000  32.000000   \n",
       "mean   20.090625   6.187500  230.721875  146.687500   3.596563   3.217250   \n",
       "std     6.026948   1.785922  123.938694   68.562868   0.534679   0.978457   \n",
       "min    10.400000   4.000000   71.100000   52.000000   2.760000   1.513000   \n",
       "25%    15.425000   4.000000  120.825000   96.500000   3.080000   2.581250   \n",
       "50%    19.200000   6.000000  196.300000  123.000000   3.695000   3.325000   \n",
       "75%    22.800000   8.000000  326.000000  180.000000   3.920000   3.610000   \n",
       "max    33.900000   8.000000  472.000000  335.000000   4.930000   5.424000   \n",
       "\n",
       "            qsec         vs         am       gear     carb  \n",
       "count  32.000000  32.000000  32.000000  32.000000  32.0000  \n",
       "mean   17.848750   0.437500   0.406250   3.687500   2.8125  \n",
       "std     1.786943   0.504016   0.498991   0.737804   1.6152  \n",
       "min    14.500000   0.000000   0.000000   3.000000   1.0000  \n",
       "25%    16.892500   0.000000   0.000000   3.000000   2.0000  \n",
       "50%    17.710000   0.000000   0.000000   4.000000   2.0000  \n",
       "75%    18.900000   1.000000   1.000000   4.000000   4.0000  \n",
       "max    22.900000   1.000000   1.000000   5.000000   8.0000  "
      ]
     },
     "execution_count": 13,
     "metadata": {},
     "output_type": "execute_result"
    }
   ],
   "source": [
    "df.describe()"
   ]
  },
  {
   "cell_type": "code",
   "execution_count": 14,
   "id": "61acbdad-a6d3-4fca-8c38-8e34f316da1a",
   "metadata": {},
   "outputs": [
    {
     "data": {
      "text/html": [
       "<div>\n",
       "<style scoped>\n",
       "    .dataframe tbody tr th:only-of-type {\n",
       "        vertical-align: middle;\n",
       "    }\n",
       "\n",
       "    .dataframe tbody tr th {\n",
       "        vertical-align: top;\n",
       "    }\n",
       "\n",
       "    .dataframe thead th {\n",
       "        text-align: right;\n",
       "    }\n",
       "</style>\n",
       "<table border=\"1\" class=\"dataframe\">\n",
       "  <thead>\n",
       "    <tr style=\"text-align: right;\">\n",
       "      <th></th>\n",
       "      <th>cyl</th>\n",
       "      <th>mpg</th>\n",
       "    </tr>\n",
       "  </thead>\n",
       "  <tbody>\n",
       "    <tr>\n",
       "      <th>0</th>\n",
       "      <td>4</td>\n",
       "      <td>26.663636</td>\n",
       "    </tr>\n",
       "    <tr>\n",
       "      <th>1</th>\n",
       "      <td>6</td>\n",
       "      <td>19.742857</td>\n",
       "    </tr>\n",
       "    <tr>\n",
       "      <th>2</th>\n",
       "      <td>8</td>\n",
       "      <td>15.100000</td>\n",
       "    </tr>\n",
       "  </tbody>\n",
       "</table>\n",
       "</div>"
      ],
      "text/plain": [
       "   cyl        mpg\n",
       "0    4  26.663636\n",
       "1    6  19.742857\n",
       "2    8  15.100000"
      ]
     },
     "execution_count": 14,
     "metadata": {},
     "output_type": "execute_result"
    }
   ],
   "source": [
    "df.groupby('cyl')['mpg'].mean().reset_index()"
   ]
  },
  {
   "cell_type": "code",
   "execution_count": 33,
   "id": "f1b5af48-038e-4117-a5a5-e3b0e1c0b3fc",
   "metadata": {},
   "outputs": [
    {
     "data": {
      "text/html": [
       "<div>\n",
       "<style scoped>\n",
       "    .dataframe tbody tr th:only-of-type {\n",
       "        vertical-align: middle;\n",
       "    }\n",
       "\n",
       "    .dataframe tbody tr th {\n",
       "        vertical-align: top;\n",
       "    }\n",
       "\n",
       "    .dataframe thead tr th {\n",
       "        text-align: left;\n",
       "    }\n",
       "\n",
       "    .dataframe thead tr:last-of-type th {\n",
       "        text-align: right;\n",
       "    }\n",
       "</style>\n",
       "<table border=\"1\" class=\"dataframe\">\n",
       "  <thead>\n",
       "    <tr>\n",
       "      <th></th>\n",
       "      <th colspan=\"4\" halign=\"left\">wt</th>\n",
       "    </tr>\n",
       "    <tr>\n",
       "      <th></th>\n",
       "      <th>mean</th>\n",
       "      <th>median</th>\n",
       "      <th>min</th>\n",
       "      <th>max</th>\n",
       "    </tr>\n",
       "    <tr>\n",
       "      <th>vs</th>\n",
       "      <th></th>\n",
       "      <th></th>\n",
       "      <th></th>\n",
       "      <th></th>\n",
       "    </tr>\n",
       "  </thead>\n",
       "  <tbody>\n",
       "    <tr>\n",
       "      <th>0</th>\n",
       "      <td>3.688556</td>\n",
       "      <td>3.5700</td>\n",
       "      <td>2.140</td>\n",
       "      <td>5.424</td>\n",
       "    </tr>\n",
       "    <tr>\n",
       "      <th>1</th>\n",
       "      <td>2.611286</td>\n",
       "      <td>2.6225</td>\n",
       "      <td>1.513</td>\n",
       "      <td>3.460</td>\n",
       "    </tr>\n",
       "  </tbody>\n",
       "</table>\n",
       "</div>"
      ],
      "text/plain": [
       "          wt                      \n",
       "        mean  median    min    max\n",
       "vs                                \n",
       "0   3.688556  3.5700  2.140  5.424\n",
       "1   2.611286  2.6225  1.513  3.460"
      ]
     },
     "execution_count": 33,
     "metadata": {},
     "output_type": "execute_result"
    }
   ],
   "source": [
    "mtcars.groupby('vs').agg({'wt':['mean', 'median', 'min' , 'max']})"
   ]
  },
  {
   "cell_type": "code",
   "execution_count": 37,
   "id": "b6787ef8-c3a7-4f0b-b99f-0b09873c4717",
   "metadata": {},
   "outputs": [
    {
     "data": {
      "text/plain": [
       "sum      642.9\n",
       "count     32.0\n",
       "min       10.4\n",
       "max       33.9\n",
       "Name: mpg, dtype: float64"
      ]
     },
     "execution_count": 37,
     "metadata": {},
     "output_type": "execute_result"
    }
   ],
   "source": [
    "mtcars['mpg'].agg(['sum', 'count', 'min', 'max'])"
   ]
  },
  {
   "cell_type": "code",
   "execution_count": 15,
   "id": "508d777d-a494-4d57-8052-5a2b9ea292ea",
   "metadata": {},
   "outputs": [
    {
     "data": {
      "text/html": [
       "<div>\n",
       "<style scoped>\n",
       "    .dataframe tbody tr th:only-of-type {\n",
       "        vertical-align: middle;\n",
       "    }\n",
       "\n",
       "    .dataframe tbody tr th {\n",
       "        vertical-align: top;\n",
       "    }\n",
       "\n",
       "    .dataframe thead th {\n",
       "        text-align: right;\n",
       "    }\n",
       "</style>\n",
       "<table border=\"1\" class=\"dataframe\">\n",
       "  <thead>\n",
       "    <tr style=\"text-align: right;\">\n",
       "      <th></th>\n",
       "      <th>mpg</th>\n",
       "      <th>cyl</th>\n",
       "      <th>disp</th>\n",
       "      <th>hp</th>\n",
       "      <th>drat</th>\n",
       "      <th>wt</th>\n",
       "      <th>qsec</th>\n",
       "      <th>vs</th>\n",
       "      <th>am</th>\n",
       "      <th>gear</th>\n",
       "      <th>carb</th>\n",
       "    </tr>\n",
       "  </thead>\n",
       "  <tbody>\n",
       "    <tr>\n",
       "      <th>Mazda RX4</th>\n",
       "      <td>21.0</td>\n",
       "      <td>6</td>\n",
       "      <td>160.0</td>\n",
       "      <td>110</td>\n",
       "      <td>3.9</td>\n",
       "      <td>2.620</td>\n",
       "      <td>16.46</td>\n",
       "      <td>0</td>\n",
       "      <td>1</td>\n",
       "      <td>4</td>\n",
       "      <td>4</td>\n",
       "    </tr>\n",
       "    <tr>\n",
       "      <th>Mazda RX4 Wag</th>\n",
       "      <td>21.0</td>\n",
       "      <td>6</td>\n",
       "      <td>160.0</td>\n",
       "      <td>110</td>\n",
       "      <td>3.9</td>\n",
       "      <td>2.875</td>\n",
       "      <td>17.02</td>\n",
       "      <td>0</td>\n",
       "      <td>1</td>\n",
       "      <td>4</td>\n",
       "      <td>4</td>\n",
       "    </tr>\n",
       "  </tbody>\n",
       "</table>\n",
       "</div>"
      ],
      "text/plain": [
       "                mpg  cyl   disp   hp  drat     wt   qsec  vs  am  gear  carb\n",
       "Mazda RX4      21.0    6  160.0  110   3.9  2.620  16.46   0   1     4     4\n",
       "Mazda RX4 Wag  21.0    6  160.0  110   3.9  2.875  17.02   0   1     4     4"
      ]
     },
     "execution_count": 15,
     "metadata": {},
     "output_type": "execute_result"
    }
   ],
   "source": [
    "mtcars = data('mtcars')\n",
    "mtcars.head(2)"
   ]
  },
  {
   "cell_type": "code",
   "execution_count": null,
   "id": "edb43548-efa6-4770-965b-bf12732eb558",
   "metadata": {},
   "outputs": [],
   "source": []
  },
  {
   "cell_type": "code",
   "execution_count": 16,
   "id": "39d4fbc1-d2fa-4aa6-842c-da1dec463fe4",
   "metadata": {},
   "outputs": [
    {
     "data": {
      "text/plain": [
       "mpg      float64\n",
       "cyl        int64\n",
       "disp     float64\n",
       "hp         int64\n",
       "drat     float64\n",
       "wt       float64\n",
       "qsec     float64\n",
       "vs         int64\n",
       "am         int64\n",
       "gear    category\n",
       "carb       int64\n",
       "dtype: object"
      ]
     },
     "execution_count": 16,
     "metadata": {},
     "output_type": "execute_result"
    }
   ],
   "source": [
    "mtcars = mtcars.astype({'gear':'category'}) #converts the 'gear' column to a categorical data type for uses less memory than strings or integers\n",
    "mtcars.head(2)\n",
    "mtcars.dtypes"
   ]
  },
  {
   "cell_type": "code",
   "execution_count": 17,
   "id": "0dd7f6f4-9cb8-4091-bb0a-33c9b366f04d",
   "metadata": {},
   "outputs": [
    {
     "name": "stdout",
     "output_type": "stream",
     "text": [
      "Index(['mpg', 'cyl', 'disp', 'hp', 'drat', 'wt', 'qsec', 'vs', 'am', 'gear',\n",
      "       'carb'],\n",
      "      dtype='object')\n"
     ]
    }
   ],
   "source": [
    "print(mtcars.columns)"
   ]
  },
  {
   "cell_type": "code",
   "execution_count": 18,
   "id": "d2b9895a-732f-4487-b831-da15272155c2",
   "metadata": {},
   "outputs": [
    {
     "data": {
      "text/plain": [
       "<AxesSubplot:xlabel='wt', ylabel='mpg'>"
      ]
     },
     "execution_count": 18,
     "metadata": {},
     "output_type": "execute_result"
    },
    {
     "data": {
      "image/png": "[encoded data removed]",
      "text/plain": [
       "<Figure size 432x288 with 1 Axes>"
      ]
     },
     "metadata": {
      "needs_background": "light"
     },
     "output_type": "display_data"
    }
   ],
   "source": [
    "mtcars.plot.scatter('wt','mpg')"
   ]
  },
  {
   "cell_type": "code",
   "execution_count": 19,
   "id": "ce382cc8-8a56-474d-89c4-d3504870ae09",
   "metadata": {},
   "outputs": [
    {
     "data": {
      "text/plain": [
       "<AxesSubplot:xlabel='wt', ylabel='mpg'>"
      ]
     },
     "execution_count": 19,
     "metadata": {},
     "output_type": "execute_result"
    },
    {
     "data": {
      "image/png": "[encoded data removed]",
      "text/plain": [
       "<Figure size 432x288 with 1 Axes>"
      ]
     },
     "metadata": {
      "needs_background": "light"
     },
     "output_type": "display_data"
    }
   ],
   "source": [
    "mtcars.plot.scatter('wt','mpg', s = 15 , c = 'red') # s = size , c = color\n"
   ]
  },
  {
   "cell_type": "code",
   "execution_count": 20,
   "id": "3fac408b-9363-42c1-9908-3ee9bdd5f958",
   "metadata": {},
   "outputs": [
    {
     "data": {
      "image/png": "[encoded data removed]",
      "text/plain": [
       "<Figure size 432x288 with 2 Axes>"
      ]
     },
     "metadata": {
      "needs_background": "light"
     },
     "output_type": "display_data"
    }
   ],
   "source": [
    "mtcars.plot.scatter(x = 'wt', y = 'mpg',c = 'gear', s = 'hp', colormap = 'viridis');"
   ]
  },
  {
   "cell_type": "code",
   "execution_count": 21,
   "id": "d71899e7-1802-4e51-98ac-9356ee649d01",
   "metadata": {},
   "outputs": [
    {
     "data": {
      "text/plain": [
       "<AxesSubplot:xlabel='wt', ylabel='mpg'>"
      ]
     },
     "execution_count": 21,
     "metadata": {},
     "output_type": "execute_result"
    },
    {
     "data": {
      "image/png": "[encoded data removed]",
      "text/plain": [
       "<Figure size 432x288 with 2 Axes>"
      ]
     },
     "metadata": {
      "needs_background": "light"
     },
     "output_type": "display_data"
    }
   ],
   "source": [
    "mtcars.plot.scatter(x = 'wt', y = 'mpg', c = 'gear', s = 'hp', colormap = 'magma')"
   ]
  },
  {
   "cell_type": "code",
   "execution_count": 22,
   "id": "f760b579-7ecb-4385-9bf8-ea93e7a1f1f2",
   "metadata": {},
   "outputs": [
    {
     "data": {
      "text/plain": [
       "3    15\n",
       "4    12\n",
       "5     5\n",
       "Name: gear, dtype: int64"
      ]
     },
     "execution_count": 22,
     "metadata": {},
     "output_type": "execute_result"
    }
   ],
   "source": [
    "mtcars.gear.value_counts() #3,4,5 is index and 15,12,5 is the values"
   ]
  },
  {
   "cell_type": "code",
   "execution_count": 23,
   "id": "d0cdb73c-1263-424a-975b-8323947e31c2",
   "metadata": {},
   "outputs": [
    {
     "data": {
      "text/plain": [
       "<AxesSubplot:>"
      ]
     },
     "execution_count": 23,
     "metadata": {},
     "output_type": "execute_result"
    },
    {
     "data": {
      "image/png": "[encoded data removed]",
      "text/plain": [
       "<Figure size 432x288 with 1 Axes>"
      ]
     },
     "metadata": {
      "needs_background": "light"
     },
     "output_type": "display_data"
    }
   ],
   "source": [
    "mtcars.gear.value_counts().plot.bar(color = ['blue', 'green', 'red'])"
   ]
  },
  {
   "cell_type": "code",
   "execution_count": 24,
   "id": "ea771f4e-6846-4c6c-9604-475b28e582b4",
   "metadata": {},
   "outputs": [
    {
     "data": {
      "text/plain": [
       "<AxesSubplot:ylabel='gear'>"
      ]
     },
     "execution_count": 24,
     "metadata": {},
     "output_type": "execute_result"
    },
    {
     "data": {
      "image/png": "[encoded data removed]",
      "text/plain": [
       "<Figure size 360x360 with 1 Axes>"
      ]
     },
     "metadata": {},
     "output_type": "display_data"
    }
   ],
   "source": [
    "mtcars.gear.value_counts()\n",
    "mtcars.gear.value_counts().plot.pie(figsize = (5,5), autopct = '%.2f', labels = ['G3', 'G4', 'G6'])"
   ]
  },
  {
   "cell_type": "code",
   "execution_count": null,
   "id": "0c494a01-a9ac-4fa3-b708-a4e0a3d3158e",
   "metadata": {},
   "outputs": [],
   "source": []
  }
 ],
 "metadata": {
  "kernelspec": {
   "display_name": "Python 3 (ipykernel)",
   "language": "python",
   "name": "python3"
  },
  "language_info": {
   "codemirror_mode": {
    "name": "ipython",
    "version": 3
   },
   "file_extension": ".py",
   "mimetype": "text/x-python",
   "name": "python",
   "nbconvert_exporter": "python",
   "pygments_lexer": "ipython3",
   "version": "3.9.12"
  }
 },
 "nbformat": 4,
 "nbformat_minor": 5
}
