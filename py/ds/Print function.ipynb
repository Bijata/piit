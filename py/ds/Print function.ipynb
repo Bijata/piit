{
 "cells": [
  {
   "cell_type": "markdown",
   "id": "d93395b1",
   "metadata": {},
   "source": [
    "# PRINT function\n",
    "- https://docs.python.org/3/library/functions.html#print\n",
    "- print(*objects, sep=' ', end='\\n', file=None, flush=False)\n",
    "- Print objects to the text stream file, separated by sep and followed by end. sep, end, file, and flush, if present, must   be given as keyword arguments.\n",
    "- All non-keyword arguments are converted to strings like str() does and written to the stream, separated by sep and      followed by end. Both sep and end must be strings; they can also be None, which means to use the default values. If no   objects are given, print() will just write end."
   ]
  },
  {
   "cell_type": "code",
   "execution_count": 16,
   "id": "c1328358",
   "metadata": {},
   "outputs": [
    {
     "name": "stdout",
     "output_type": "stream",
     "text": [
      "Hello Friend\n"
     ]
    }
   ],
   "source": [
    "print (\"Hello Friend\")"
   ]
  },
  {
   "cell_type": "markdown",
   "id": "84c4f65f",
   "metadata": {},
   "source": [
    "## Seperator"
   ]
  },
  {
   "cell_type": "markdown",
   "id": "ff02c594",
   "metadata": {},
   "source": [
    "- sep - The sep argument defines what to print between multiple values."
   ]
  },
  {
   "cell_type": "code",
   "execution_count": 7,
   "id": "ee6c5579",
   "metadata": {},
   "outputs": [
    {
     "name": "stdout",
     "output_type": "stream",
     "text": [
      "Light , Camera , Action , 30\n"
     ]
    }
   ],
   "source": [
    "print(\"Light\" , \"Camera\" , \"Action\" , 30  , sep = \" , \")"
   ]
  },
  {
   "cell_type": "markdown",
   "id": "5985ec9a",
   "metadata": {},
   "source": [
    "## End of Line Character, can be markup also\n",
    "\n",
    "- end argument controls what comes after the print statement (default is \\n — newline)."
   ]
  },
  {
   "cell_type": "code",
   "execution_count": 10,
   "id": "30ef73ad",
   "metadata": {},
   "outputs": [
    {
     "name": "stdout",
     "output_type": "stream",
     "text": [
      "Light , Camera , Action........"
     ]
    }
   ],
   "source": [
    "print(\"Light\" , \"Camera\" , \"Action\" , sep = \" , \" , end = '........')"
   ]
  },
  {
   "cell_type": "code",
   "execution_count": 15,
   "id": "e2a6f6bd",
   "metadata": {},
   "outputs": [
    {
     "name": "stdout",
     "output_type": "stream",
     "text": [
      "Light , Camera , Action **** "
     ]
    }
   ],
   "source": [
    "print( \"Light\" , \"Camera\" , \"Action\" , sep = \" , \" , end = ' **** ')"
   ]
  },
  {
   "cell_type": "code",
   "execution_count": 33,
   "id": "079d2f51",
   "metadata": {},
   "outputs": [
    {
     "name": "stdout",
     "output_type": "stream",
     "text": [
      "Hello Friend\n",
      "How are you\n"
     ]
    }
   ],
   "source": [
    "print (\"Hello Friend\" , end = '\\n') # default behavior \n",
    "\n",
    "print (\"How are you\")"
   ]
  },
  {
   "cell_type": "code",
   "execution_count": 26,
   "id": "f29789c3",
   "metadata": {},
   "outputs": [
    {
     "name": "stdout",
     "output_type": "stream",
     "text": [
      "Hello - Friend! How are you\n"
     ]
    }
   ],
   "source": [
    "print (\"Hello\" ,  \"Friend!\" ,sep = \" - \" , end = ' ')\n",
    "print (\"How are you\")"
   ]
  },
  {
   "cell_type": "code",
   "execution_count": 31,
   "id": "ce2aea38",
   "metadata": {},
   "outputs": [
    {
     "name": "stdout",
     "output_type": "stream",
     "text": [
      "Hello Friend! \tHow - are - you\n"
     ]
    }
   ],
   "source": [
    "print (\"Hello\" ,  \"Friend!\" , end = ' \\t') # t defines tab before next line\n",
    "print (\"How\",\"are\", \"you\" , sep = \" - \" )"
   ]
  },
  {
   "cell_type": "markdown",
   "id": "aaa8f954",
   "metadata": {},
   "source": [
    "## Formatted (f) strings\n",
    "- f"
   ]
  },
  {
   "cell_type": "code",
   "execution_count": 37,
   "id": "5fcdd77d",
   "metadata": {},
   "outputs": [
    {
     "name": "stdout",
     "output_type": "stream",
     "text": [
      "Bijata - 30 - Female\n"
     ]
    }
   ],
   "source": [
    "name = \"Bijata\"\n",
    "age = 30\n",
    "sex = \"Female\"\n",
    "print(name , age , sex , sep = \" - \")"
   ]
  },
  {
   "cell_type": "code",
   "execution_count": 41,
   "id": "e89ec8d2",
   "metadata": {},
   "outputs": [
    {
     "name": "stdout",
     "output_type": "stream",
     "text": [
      "Bijata is 30 years old and she is Female .\n"
     ]
    }
   ],
   "source": [
    "print(name, 'is' , age , \"years old and she is\" ,sex , \".\")"
   ]
  },
  {
   "cell_type": "code",
   "execution_count": 46,
   "id": "9c7a2dbc",
   "metadata": {},
   "outputs": [],
   "source": [
    "rank = \"1st\""
   ]
  },
  {
   "cell_type": "code",
   "execution_count": 47,
   "id": "dd60f31a",
   "metadata": {},
   "outputs": [
    {
     "name": "stdout",
     "output_type": "stream",
     "text": [
      "Bijata is 30 years old and she is 1st Female child.\n"
     ]
    }
   ],
   "source": [
    "print(f\"{name} is {age} years old and she is {rank} {sex} child.\")"
   ]
  },
  {
   "cell_type": "code",
   "execution_count": 49,
   "id": "c4af7223",
   "metadata": {},
   "outputs": [
    {
     "name": "stdout",
     "output_type": "stream",
     "text": [
      " name of student is Newson and he scored 95 in math.\n"
     ]
    }
   ],
   "source": [
    "name , score = 'Newson' , 95 \n",
    "print(f\" name of student is {name} and he scored {score} in math.\")"
   ]
  },
  {
   "cell_type": "markdown",
   "id": "5b33bab8",
   "metadata": {},
   "source": [
    "# Format Command\n",
    "- Old Command"
   ]
  },
  {
   "cell_type": "code",
   "execution_count": 50,
   "id": "72874905",
   "metadata": {},
   "outputs": [
    {
     "name": "stdout",
     "output_type": "stream",
     "text": [
      "name: Newson, score: 95\n"
     ]
    }
   ],
   "source": [
    "print(\"name: {}, score: {}\".format(\"Newson\" , 95))"
   ]
  },
  {
   "cell_type": "code",
   "execution_count": 51,
   "id": "f07570b6",
   "metadata": {},
   "outputs": [
    {
     "name": "stdout",
     "output_type": "stream",
     "text": [
      "Name: Jasmine, age: 28\n"
     ]
    }
   ],
   "source": [
    "print(\"Name: {}, age: {}\".format (\"Jasmine\", 28))"
   ]
  },
  {
   "cell_type": "markdown",
   "id": "c2ef7d7f",
   "metadata": {},
   "source": [
    "## Printing List or Ranges"
   ]
  },
  {
   "cell_type": "code",
   "execution_count": null,
   "id": "5b0885d5",
   "metadata": {},
   "outputs": [],
   "source": []
  }
 ],
 "metadata": {
  "kernelspec": {
   "display_name": "Python 3 (ipykernel)",
   "language": "python",
   "name": "python3"
  },
  "language_info": {
   "codemirror_mode": {
    "name": "ipython",
    "version": 3
   },
   "file_extension": ".py",
   "mimetype": "text/x-python",
   "name": "python",
   "nbconvert_exporter": "python",
   "pygments_lexer": "ipython3",
   "version": "3.9.12"
  }
 },
 "nbformat": 4,
 "nbformat_minor": 5
}
