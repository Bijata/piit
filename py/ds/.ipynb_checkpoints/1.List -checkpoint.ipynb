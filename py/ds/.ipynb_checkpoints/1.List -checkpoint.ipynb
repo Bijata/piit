{
 "cells": [
  {
   "cell_type": "markdown",
   "id": "540ec9a9",
   "metadata": {},
   "source": [
    "# LIST\n"
   ]
  },
  {
   "cell_type": "markdown",
   "id": "17f7eff5",
   "metadata": {},
   "source": [
    "*List Python - Interpreted Language - Line by Line\n",
    "*Run a line (Execute) - Shift + Enter\n",
    "*list is created with [ ] square bracket\n",
    "*List is a type of DS with different data types being stored"
   ]
  },
  {
   "cell_type": "markdown",
   "id": "cfaeb190",
   "metadata": {},
   "source": [
    "## 1st List"
   ]
  },
  {
   "cell_type": "code",
   "execution_count": 2,
   "id": "4f2de8d6",
   "metadata": {},
   "outputs": [],
   "source": [
    "x = [1, 2, 3, 4, 7]   #variable which gets stored in Environment"
   ]
  },
  {
   "cell_type": "code",
   "execution_count": 3,
   "id": "cb7a9ae4",
   "metadata": {},
   "outputs": [
    {
     "data": {
      "text/plain": [
       "[1, 2, 3, 4, 7]"
      ]
     },
     "execution_count": 3,
     "metadata": {},
     "output_type": "execute_result"
    }
   ],
   "source": [
    "x #list of numbers"
   ]
  },
  {
   "cell_type": "code",
   "execution_count": 4,
   "id": "e0814d15",
   "metadata": {},
   "outputs": [
    {
     "name": "stdout",
     "output_type": "stream",
     "text": [
      "[1, 2, 3, 4, 7]\n"
     ]
    }
   ],
   "source": [
    "print(x)"
   ]
  },
  {
   "cell_type": "code",
   "execution_count": 5,
   "id": "7b47a407",
   "metadata": {},
   "outputs": [
    {
     "data": {
      "text/plain": [
       "list"
      ]
     },
     "execution_count": 5,
     "metadata": {},
     "output_type": "execute_result"
    }
   ],
   "source": [
    "type(x)"
   ]
  },
  {
   "cell_type": "markdown",
   "id": "69342f7f",
   "metadata": {},
   "source": [
    "## 2nd List"
   ]
  },
  {
   "cell_type": "code",
   "execution_count": 6,
   "id": "fb4d2905",
   "metadata": {},
   "outputs": [],
   "source": [
    "x1 = [1, 1.12 ,'Suraj' , \"Susma\" , \"PIIT\", True]   #list of mixed data type - no., string, logical , float(decimal value)"
   ]
  },
  {
   "cell_type": "code",
   "execution_count": 13,
   "id": "e3c8b27a",
   "metadata": {},
   "outputs": [
    {
     "name": "stdout",
     "output_type": "stream",
     "text": [
      "[1, 1.12, 'Suraj', 'Susma', 'PIIT', True]\n"
     ]
    }
   ],
   "source": [
    "print(x1)"
   ]
  },
  {
   "cell_type": "code",
   "execution_count": 14,
   "id": "c42e7c1d",
   "metadata": {},
   "outputs": [
    {
     "data": {
      "text/plain": [
       "list"
      ]
     },
     "execution_count": 14,
     "metadata": {},
     "output_type": "execute_result"
    }
   ],
   "source": [
    "type(x1)"
   ]
  },
  {
   "cell_type": "markdown",
   "id": "83bd066a",
   "metadata": {},
   "source": [
    "### length of list"
   ]
  },
  {
   "cell_type": "code",
   "execution_count": 15,
   "id": "cb3d9097",
   "metadata": {},
   "outputs": [
    {
     "data": {
      "text/plain": [
       "6"
      ]
     },
     "execution_count": 15,
     "metadata": {},
     "output_type": "execute_result"
    }
   ],
   "source": [
    "len(x1)  #no. of elements"
   ]
  },
  {
   "cell_type": "markdown",
   "id": "4b6fe2f3",
   "metadata": {},
   "source": [
    "### ordered "
   ]
  },
  {
   "cell_type": "markdown",
   "id": "cf51326f",
   "metadata": {},
   "source": [
    "* filter by position"
   ]
  },
  {
   "cell_type": "code",
   "execution_count": 17,
   "id": "e3cd4f75",
   "metadata": {},
   "outputs": [
    {
     "data": {
      "text/plain": [
       "1"
      ]
     },
     "execution_count": 17,
     "metadata": {},
     "output_type": "execute_result"
    }
   ],
   "source": [
    "x1[0] #first position from 0 value between square bracket [ index ]"
   ]
  },
  {
   "cell_type": "code",
   "execution_count": 19,
   "id": "410c071a",
   "metadata": {},
   "outputs": [
    {
     "data": {
      "text/plain": [
       "True"
      ]
     },
     "execution_count": 19,
     "metadata": {},
     "output_type": "execute_result"
    }
   ],
   "source": [
    "x1[5]"
   ]
  },
  {
   "cell_type": "markdown",
   "id": "90498cda",
   "metadata": {},
   "source": [
    "### Change Values/ Mutable"
   ]
  },
  {
   "cell_type": "code",
   "execution_count": 21,
   "id": "cf581f13",
   "metadata": {},
   "outputs": [],
   "source": [
    "x1[4] = 'Mandal'"
   ]
  },
  {
   "cell_type": "code",
   "execution_count": 22,
   "id": "767abe07",
   "metadata": {},
   "outputs": [
    {
     "data": {
      "text/plain": [
       "[1, 1.12, 'Suraj', 'Susma', 'Mandal', True]"
      ]
     },
     "execution_count": 22,
     "metadata": {},
     "output_type": "execute_result"
    }
   ],
   "source": [
    "x1"
   ]
  },
  {
   "cell_type": "code",
   "execution_count": 23,
   "id": "477efcce",
   "metadata": {},
   "outputs": [],
   "source": [
    "x1[3] = 22.5"
   ]
  },
  {
   "cell_type": "code",
   "execution_count": 24,
   "id": "11d6c6fd",
   "metadata": {},
   "outputs": [
    {
     "data": {
      "text/plain": [
       "[1, 1.12, 'Suraj', 22.5, 'Mandal', True]"
      ]
     },
     "execution_count": 24,
     "metadata": {},
     "output_type": "execute_result"
    }
   ],
   "source": [
    "x1"
   ]
  },
  {
   "cell_type": "markdown",
   "id": "a364677c",
   "metadata": {},
   "source": [
    "## 3rd List"
   ]
  },
  {
   "cell_type": "code",
   "execution_count": 25,
   "id": "2fe4dd80",
   "metadata": {},
   "outputs": [
    {
     "data": {
      "text/plain": [
       "[1, 2, 3, 4, 7]"
      ]
     },
     "execution_count": 25,
     "metadata": {},
     "output_type": "execute_result"
    }
   ],
   "source": [
    "x"
   ]
  },
  {
   "cell_type": "code",
   "execution_count": 26,
   "id": "1c001656",
   "metadata": {},
   "outputs": [
    {
     "data": {
      "text/plain": [
       "[1, 1.12, 'Suraj', 22.5, 'Mandal', True]"
      ]
     },
     "execution_count": 26,
     "metadata": {},
     "output_type": "execute_result"
    }
   ],
   "source": [
    "x1"
   ]
  },
  {
   "cell_type": "code",
   "execution_count": 30,
   "id": "36083906",
   "metadata": {},
   "outputs": [],
   "source": [
    "x2 = x + x1"
   ]
  },
  {
   "cell_type": "code",
   "execution_count": 31,
   "id": "cdae11fc",
   "metadata": {},
   "outputs": [
    {
     "data": {
      "text/plain": [
       "[1, 2, 3, 4, 7, 1, 1.12, 'Suraj', 22.5, 'Mandal', True]"
      ]
     },
     "execution_count": 31,
     "metadata": {},
     "output_type": "execute_result"
    }
   ],
   "source": [
    "x2"
   ]
  },
  {
   "cell_type": "markdown",
   "id": "0026f94d",
   "metadata": {},
   "source": [
    "### Other functions of list"
   ]
  },
  {
   "cell_type": "markdown",
   "id": "2c742635",
   "metadata": {},
   "source": [
    "* https://docs.python.org/3/tutorial/datastructures.html"
   ]
  },
  {
   "cell_type": "code",
   "execution_count": 35,
   "id": "28cf1e68",
   "metadata": {},
   "outputs": [],
   "source": [
    "x.append(\"Numa\") #it adds End of the list only"
   ]
  },
  {
   "cell_type": "code",
   "execution_count": 65,
   "id": "694f9771",
   "metadata": {
    "scrolled": true
   },
   "outputs": [
    {
     "data": {
      "text/plain": [
       "[1, 2, 3, 10, 10, 4, 7, 100, 'Numa']"
      ]
     },
     "execution_count": 65,
     "metadata": {},
     "output_type": "execute_result"
    }
   ],
   "source": [
    "x"
   ]
  },
  {
   "cell_type": "code",
   "execution_count": 46,
   "id": "4801f177",
   "metadata": {},
   "outputs": [],
   "source": [
    "x.insert(3,10) #Adds a new item at a specific index (position) i.e after 3 -we insert item 10 ,note first argument \n",
    "                 inplace of 3 it cannot be string as Numa.   "
   ]
  },
  {
   "cell_type": "code",
   "execution_count": null,
   "id": "63616b13",
   "metadata": {},
   "outputs": [],
   "source": []
  },
  {
   "cell_type": "code",
   "execution_count": 44,
   "id": "ab672768",
   "metadata": {},
   "outputs": [
    {
     "data": {
      "text/plain": [
       "[1, 2, 3, 10, 4, 7, 'Numa']"
      ]
     },
     "execution_count": 44,
     "metadata": {},
     "output_type": "execute_result"
    }
   ],
   "source": [
    "x"
   ]
  },
  {
   "cell_type": "code",
   "execution_count": 48,
   "id": "4ae1707a",
   "metadata": {},
   "outputs": [],
   "source": [
    "x.insert(7,100)"
   ]
  },
  {
   "cell_type": "code",
   "execution_count": 49,
   "id": "fa3dd187",
   "metadata": {},
   "outputs": [
    {
     "data": {
      "text/plain": [
       "[1, 2, 3, 10, 10, 4, 7, 100, 'Numa']"
      ]
     },
     "execution_count": 49,
     "metadata": {},
     "output_type": "execute_result"
    }
   ],
   "source": [
    "x"
   ]
  },
  {
   "cell_type": "code",
   "execution_count": 38,
   "id": "497a6b09",
   "metadata": {},
   "outputs": [
    {
     "name": "stdout",
     "output_type": "stream",
     "text": [
      "10\n",
      "20\n",
      "30\n"
     ]
    }
   ],
   "source": [
    "my_list = [10, 20, 30]\n",
    "\n",
    "for num in my_list:\n",
    "    print(num)\n"
   ]
  },
  {
   "cell_type": "code",
   "execution_count": 42,
   "id": "f9fea33f",
   "metadata": {},
   "outputs": [
    {
     "name": "stdout",
     "output_type": "stream",
     "text": [
      " \n",
      "u\n",
      "m\n",
      "a\n"
     ]
    }
   ],
   "source": [
    "x3 = \"uma\"\n",
    "\n",
    "for i in x3:\n",
    "    print(i)"
   ]
  },
  {
   "cell_type": "code",
   "execution_count": 56,
   "id": "f2aad9ad",
   "metadata": {},
   "outputs": [],
   "source": [
    "my_list.clear() #Removes all the elements from the list, but doesnot work for \"string\""
   ]
  },
  {
   "cell_type": "code",
   "execution_count": 54,
   "id": "1bac4867",
   "metadata": {},
   "outputs": [
    {
     "data": {
      "text/plain": [
       "[]"
      ]
     },
     "execution_count": 54,
     "metadata": {},
     "output_type": "execute_result"
    }
   ],
   "source": [
    "my_list"
   ]
  },
  {
   "cell_type": "code",
   "execution_count": 60,
   "id": "179cd350",
   "metadata": {},
   "outputs": [
    {
     "data": {
      "text/plain": [
       "[1, 2, 3, 10, 10, 4, 7, 100, 'Numa']"
      ]
     },
     "execution_count": 60,
     "metadata": {},
     "output_type": "execute_result"
    }
   ],
   "source": [
    "x.copy() #Returns a copy of the list"
   ]
  },
  {
   "cell_type": "code",
   "execution_count": 70,
   "id": "f08061dd",
   "metadata": {},
   "outputs": [
    {
     "data": {
      "text/plain": [
       "8"
      ]
     },
     "execution_count": 70,
     "metadata": {},
     "output_type": "execute_result"
    }
   ],
   "source": [
    "x.index(\"Numa\") "
   ]
  },
  {
   "cell_type": "code",
   "execution_count": 71,
   "id": "9dee0a0f",
   "metadata": {},
   "outputs": [],
   "source": [
    "x.reverse()"
   ]
  },
  {
   "cell_type": "code",
   "execution_count": 72,
   "id": "783ccc4b",
   "metadata": {},
   "outputs": [
    {
     "data": {
      "text/plain": [
       "['Numa', 100, 7, 4, 10, 10, 3, 2, 1]"
      ]
     },
     "execution_count": 72,
     "metadata": {},
     "output_type": "execute_result"
    }
   ],
   "source": [
    "x"
   ]
  },
  {
   "cell_type": "code",
   "execution_count": 76,
   "id": "13552304",
   "metadata": {},
   "outputs": [
    {
     "data": {
      "text/plain": [
       "2"
      ]
     },
     "execution_count": 76,
     "metadata": {},
     "output_type": "execute_result"
    }
   ],
   "source": [
    "x.count(10) # count the unique values"
   ]
  },
  {
   "cell_type": "code",
   "execution_count": 82,
   "id": "dfd4e254",
   "metadata": {},
   "outputs": [
    {
     "data": {
      "text/plain": [
       "<function list.sort(*, key=None, reverse=False)>"
      ]
     },
     "execution_count": 82,
     "metadata": {},
     "output_type": "execute_result"
    }
   ],
   "source": [
    "x.sort"
   ]
  },
  {
   "cell_type": "code",
   "execution_count": 83,
   "id": "83f44ca6",
   "metadata": {
    "scrolled": true
   },
   "outputs": [
    {
     "data": {
      "text/plain": [
       "['Numa', 7, 4, 10, 10, 3, 2, 1]"
      ]
     },
     "execution_count": 83,
     "metadata": {},
     "output_type": "execute_result"
    }
   ],
   "source": [
    "x"
   ]
  },
  {
   "cell_type": "code",
   "execution_count": 77,
   "id": "d7c76ea5",
   "metadata": {},
   "outputs": [],
   "source": [
    "x.remove(100) #Remove the given item value - 100 removed"
   ]
  },
  {
   "cell_type": "code",
   "execution_count": 78,
   "id": "040332ab",
   "metadata": {},
   "outputs": [
    {
     "data": {
      "text/plain": [
       "['Numa', 7, 4, 10, 10, 3, 2, 1]"
      ]
     },
     "execution_count": 78,
     "metadata": {},
     "output_type": "execute_result"
    }
   ],
   "source": [
    "x #value - 100 removed"
   ]
  },
  {
   "cell_type": "code",
   "execution_count": 84,
   "id": "b2c59335",
   "metadata": {},
   "outputs": [
    {
     "data": {
      "text/plain": [
       "'Numa'"
      ]
     },
     "execution_count": 84,
     "metadata": {},
     "output_type": "execute_result"
    }
   ],
   "source": [
    "x.pop(0) #Remove the item at the given position Numa - removed"
   ]
  },
  {
   "cell_type": "code",
   "execution_count": 85,
   "id": "db31eaf4",
   "metadata": {},
   "outputs": [
    {
     "data": {
      "text/plain": [
       "[7, 4, 10, 10, 3, 2, 1]"
      ]
     },
     "execution_count": 85,
     "metadata": {},
     "output_type": "execute_result"
    }
   ],
   "source": [
    "x "
   ]
  },
  {
   "cell_type": "code",
   "execution_count": 92,
   "id": "edb6915c",
   "metadata": {},
   "outputs": [
    {
     "data": {
      "text/plain": [
       "7"
      ]
     },
     "execution_count": 92,
     "metadata": {},
     "output_type": "execute_result"
    }
   ],
   "source": [
    "x.pop(0)"
   ]
  },
  {
   "cell_type": "code",
   "execution_count": 93,
   "id": "c710cbda",
   "metadata": {},
   "outputs": [
    {
     "data": {
      "text/plain": [
       "[4, 10, 3, 2]"
      ]
     },
     "execution_count": 93,
     "metadata": {},
     "output_type": "execute_result"
    }
   ],
   "source": [
    "x"
   ]
  },
  {
   "cell_type": "code",
   "execution_count": 94,
   "id": "16b79ad0",
   "metadata": {},
   "outputs": [
    {
     "data": {
      "text/plain": [
       "2"
      ]
     },
     "execution_count": 94,
     "metadata": {},
     "output_type": "execute_result"
    }
   ],
   "source": [
    "x.pop() #when there isno arguments it auto select the last element to delet"
   ]
  },
  {
   "cell_type": "code",
   "execution_count": 95,
   "id": "5bfe0e04",
   "metadata": {},
   "outputs": [
    {
     "data": {
      "text/plain": [
       "[4, 10, 3]"
      ]
     },
     "execution_count": 95,
     "metadata": {},
     "output_type": "execute_result"
    }
   ],
   "source": [
    "x"
   ]
  },
  {
   "cell_type": "markdown",
   "id": "7750405f",
   "metadata": {},
   "source": [
    "# List Functions"
   ]
  },
  {
   "cell_type": "code",
   "execution_count": 96,
   "id": "14beaca6",
   "metadata": {},
   "outputs": [],
   "source": [
    "#dir(list)"
   ]
  },
  {
   "cell_type": "code",
   "execution_count": 97,
   "id": "26f6584e",
   "metadata": {},
   "outputs": [
    {
     "name": "stdout",
     "output_type": "stream",
     "text": [
      "['__add__', '__class__', '__class_getitem__', '__contains__', '__delattr__', '__delitem__', '__dir__', '__doc__', '__eq__', '__format__', '__ge__', '__getattribute__', '__getitem__', '__gt__', '__hash__', '__iadd__', '__imul__', '__init__', '__init_subclass__', '__iter__', '__le__', '__len__', '__lt__', '__mul__', '__ne__', '__new__', '__reduce__', '__reduce_ex__', '__repr__', '__reversed__', '__rmul__', '__setattr__', '__setitem__', '__sizeof__', '__str__', '__subclasshook__', 'append', 'clear', 'copy', 'count', 'extend', 'index', 'insert', 'pop', 'remove', 'reverse', 'sort'] \t \n"
     ]
    }
   ],
   "source": [
    "print(dir(list), '\\t ')   #('\\t ' tab insert in elements)"
   ]
  },
  {
   "cell_type": "code",
   "execution_count": 98,
   "id": "122e0176",
   "metadata": {},
   "outputs": [
    {
     "name": "stdout",
     "output_type": "stream",
     "text": [
      "['append', 'clear', 'copy', 'count', 'extend', 'index', 'insert', 'pop', 'remove', 'reverse', 'sort']\n"
     ]
    }
   ],
   "source": [
    "methods = [method for method in dir(list) if callable(getattr(list, method)) and not method.startswith('__')]\n",
    "print(methods)    #theses are functions mostly used in list"
   ]
  },
  {
   "cell_type": "code",
   "execution_count": null,
   "id": "2d24a650",
   "metadata": {},
   "outputs": [],
   "source": []
  }
 ],
 "metadata": {
  "kernelspec": {
   "display_name": "Python 3 (ipykernel)",
   "language": "python",
   "name": "python3"
  },
  "language_info": {
   "codemirror_mode": {
    "name": "ipython",
    "version": 3
   },
   "file_extension": ".py",
   "mimetype": "text/x-python",
   "name": "python",
   "nbconvert_exporter": "python",
   "pygments_lexer": "ipython3",
   "version": "3.9.12"
  }
 },
 "nbformat": 4,
 "nbformat_minor": 5
}
