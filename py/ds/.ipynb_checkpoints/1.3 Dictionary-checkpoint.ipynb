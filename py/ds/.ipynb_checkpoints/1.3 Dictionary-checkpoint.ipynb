{
 "cells": [
  {
   "cell_type": "markdown",
   "id": "646dfa04",
   "metadata": {},
   "source": [
    "# DICTIONARY\n",
    "- a dictionary is a built-in data structure used to store data values in key:value pairs. It is a collection that is ordered (as of Python 3.7+), changeable, and does not allow duplicate keys.\n",
    "- key is like rollno, value is like student name\n"
   ]
  },
  {
   "cell_type": "code",
   "execution_count": 3,
   "id": "384930f2",
   "metadata": {},
   "outputs": [
    {
     "name": "stdout",
     "output_type": "stream",
     "text": [
      "{'name': 'Bijata', 'age': 30, 'major': 'finance'}\n"
     ]
    }
   ],
   "source": [
    "# Creating a dictionary\n",
    "student = {\n",
    "    \"name\": \"Bijata\",\n",
    "    \"age\" : 30,\n",
    "    \"major\": \"finance\"\n",
    "}\n",
    "print(student)"
   ]
  },
  {
   "cell_type": "code",
   "execution_count": 5,
   "id": "d872ddda",
   "metadata": {},
   "outputs": [
    {
     "name": "stdout",
     "output_type": "stream",
     "text": [
      "Bijata\n"
     ]
    }
   ],
   "source": [
    "# Accessing values\n",
    "print(student[\"name\"])"
   ]
  },
  {
   "cell_type": "code",
   "execution_count": 6,
   "id": "0564d115",
   "metadata": {},
   "outputs": [
    {
     "name": "stdout",
     "output_type": "stream",
     "text": [
      "30\n"
     ]
    }
   ],
   "source": [
    "print(student[\"age\"])"
   ]
  },
  {
   "cell_type": "code",
   "execution_count": 7,
   "id": "72527b32",
   "metadata": {},
   "outputs": [
    {
     "name": "stdout",
     "output_type": "stream",
     "text": [
      "{'name': 'Bijata', 'age': 30, 'major': 'finance', 'gpa': 3.83}\n"
     ]
    }
   ],
   "source": [
    "# Adding a new key-value pair, mutable, value can be changed or added\n",
    "student [\"gpa\"] = 3.83\n",
    "print(student)"
   ]
  },
  {
   "cell_type": "code",
   "execution_count": 8,
   "id": "d103cf8b",
   "metadata": {},
   "outputs": [
    {
     "name": "stdout",
     "output_type": "stream",
     "text": [
      "{'name': 'Bijata', 'age': 29, 'major': 'finance', 'gpa': 3.83}\n"
     ]
    }
   ],
   "source": [
    "# Modifying a value\n",
    "student [\"age\"] = 29\n",
    "print(student)"
   ]
  },
  {
   "cell_type": "code",
   "execution_count": 9,
   "id": "350d69cf",
   "metadata": {},
   "outputs": [
    {
     "data": {
      "text/plain": [
       "dict_keys(['name', 'age', 'major', 'gpa'])"
      ]
     },
     "execution_count": 9,
     "metadata": {},
     "output_type": "execute_result"
    }
   ],
   "source": [
    "student.keys()"
   ]
  },
  {
   "cell_type": "code",
   "execution_count": 12,
   "id": "8091298d",
   "metadata": {},
   "outputs": [
    {
     "data": {
      "text/plain": [
       "dict_values(['Bijata', 29, 'finance', 3.83])"
      ]
     },
     "execution_count": 12,
     "metadata": {},
     "output_type": "execute_result"
    }
   ],
   "source": [
    "student.values()"
   ]
  },
  {
   "cell_type": "code",
   "execution_count": 13,
   "id": "30966943",
   "metadata": {},
   "outputs": [
    {
     "name": "stdout",
     "output_type": "stream",
     "text": [
      "{'name': 'Bijata', 'age': 29, 'gpa': 3.83}\n"
     ]
    }
   ],
   "source": [
    "# Removing a key-value pair\n",
    "del student [\"major\"]\n",
    "print(student)"
   ]
  },
  {
   "cell_type": "code",
   "execution_count": 17,
   "id": "8b643db8",
   "metadata": {},
   "outputs": [
    {
     "name": "stdout",
     "output_type": "stream",
     "text": [
      "name: Bijata\n",
      "age: 29\n",
      "gpa: 3.83\n"
     ]
    }
   ],
   "source": [
    "# In Python 3.7+, iterating will always follow insertion order\n",
    "for key, value in student.items():\n",
    "    print(f\"{key}: {value}\")"
   ]
  },
  {
   "cell_type": "code",
   "execution_count": 22,
   "id": "4fde47f6",
   "metadata": {},
   "outputs": [
    {
     "name": "stdout",
     "output_type": "stream",
     "text": [
      "name: Bijata\n",
      "age: 29\n",
      "gpa: 3.83\n"
     ]
    }
   ],
   "source": [
    "for key, value in student.items():\n",
    "    print(f\"{key}: {value}\")"
   ]
  },
  {
   "cell_type": "code",
   "execution_count": 23,
   "id": "c95ae9e0",
   "metadata": {},
   "outputs": [],
   "source": [
    "del student ['gpa']"
   ]
  },
  {
   "cell_type": "code",
   "execution_count": 24,
   "id": "25662db4",
   "metadata": {},
   "outputs": [
    {
     "data": {
      "text/plain": [
       "{'name': 'Bijata', 'age': 29}"
      ]
     },
     "execution_count": 24,
     "metadata": {},
     "output_type": "execute_result"
    }
   ],
   "source": [
    "student"
   ]
  },
  {
   "cell_type": "code",
   "execution_count": null,
   "id": "7c8224c8",
   "metadata": {},
   "outputs": [],
   "source": []
  }
 ],
 "metadata": {
  "kernelspec": {
   "display_name": "Python 3 (ipykernel)",
   "language": "python",
   "name": "python3"
  },
  "language_info": {
   "codemirror_mode": {
    "name": "ipython",
    "version": 3
   },
   "file_extension": ".py",
   "mimetype": "text/x-python",
   "name": "python",
   "nbconvert_exporter": "python",
   "pygments_lexer": "ipython3",
   "version": "3.9.12"
  }
 },
 "nbformat": 4,
 "nbformat_minor": 5
}
