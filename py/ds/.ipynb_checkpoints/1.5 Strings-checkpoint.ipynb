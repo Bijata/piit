{
 "cells": [
  {
   "cell_type": "markdown",
   "id": "db3f839c-0233-4322-aa9f-c76ec17aecb5",
   "metadata": {},
   "source": [
    "# Data Structures - Strings"
   ]
  },
  {
   "cell_type": "markdown",
   "id": "a045ea80-8993-4ffd-b483-7476f6db80e2",
   "metadata": {},
   "source": [
    "## Quotes"
   ]
  },
  {
   "cell_type": "code",
   "execution_count": 1,
   "id": "de0a7b90-bb5e-4d7a-9b67-3ffb6ab9a3be",
   "metadata": {},
   "outputs": [
    {
     "name": "stdout",
     "output_type": "stream",
     "text": [
      "Hello World\n"
     ]
    }
   ],
   "source": [
    "s1 = \"Hello\"\n",
    "s2 = \"World\"\n",
    "print(s1,s2)"
   ]
  },
  {
   "cell_type": "code",
   "execution_count": 2,
   "id": "a5eadcb0-21a4-4618-a43a-63d07b99caa2",
   "metadata": {},
   "outputs": [
    {
     "name": "stdout",
     "output_type": "stream",
     "text": [
      "Hello , World\n"
     ]
    }
   ],
   "source": [
    "print (s1 , s2 , sep = \" , \")"
   ]
  },
  {
   "cell_type": "code",
   "execution_count": 9,
   "id": "53453d50-dc0f-4750-a204-f919e8e52349",
   "metadata": {},
   "outputs": [],
   "source": [
    "s1 = \"Hello\"\n",
    "s2 = \"World\""
   ]
  },
  {
   "cell_type": "code",
   "execution_count": 13,
   "id": "f380e98d-bc4f-4209-921c-27869f89a03b",
   "metadata": {},
   "outputs": [
    {
     "data": {
      "text/plain": [
       "'H'"
      ]
     },
     "execution_count": 13,
     "metadata": {},
     "output_type": "execute_result"
    }
   ],
   "source": [
    "s1[0]"
   ]
  },
  {
   "cell_type": "code",
   "execution_count": 10,
   "id": "f5bcee6e-f582-4a94-9e6a-baaaad958b92",
   "metadata": {},
   "outputs": [
    {
     "data": {
      "text/plain": [
       "'W'"
      ]
     },
     "execution_count": 10,
     "metadata": {},
     "output_type": "execute_result"
    }
   ],
   "source": [
    "s2[0]"
   ]
  },
  {
   "cell_type": "code",
   "execution_count": 5,
   "id": "077f0b47-bff9-49ce-bc30-0b48664330b2",
   "metadata": {},
   "outputs": [
    {
     "ename": "TypeError",
     "evalue": "'str' object does not support item assignment",
     "output_type": "error",
     "traceback": [
      "\u001b[1;31m---------------------------------------------------------------------------\u001b[0m",
      "\u001b[1;31mTypeError\u001b[0m                                 Traceback (most recent call last)",
      "Input \u001b[1;32mIn [5]\u001b[0m, in \u001b[0;36m<cell line: 2>\u001b[1;34m()\u001b[0m\n\u001b[0;32m      1\u001b[0m \u001b[38;5;66;03m#mutability  # strings are immutable , part of string cannot be changed\u001b[39;00m\n\u001b[1;32m----> 2\u001b[0m s1[\u001b[38;5;241m0\u001b[39m] \u001b[38;5;241m=\u001b[39m \u001b[38;5;124m\"\u001b[39m\u001b[38;5;124mS\u001b[39m\u001b[38;5;124m\"\u001b[39m\n",
      "\u001b[1;31mTypeError\u001b[0m: 'str' object does not support item assignment"
     ]
    }
   ],
   "source": [
    "#mutability  # strings are immutable , part of string cannot be changed\n",
    "s1[0] = \"S\""
   ]
  },
  {
   "cell_type": "code",
   "execution_count": 6,
   "id": "87158b0c-8b38-4466-aabf-1ca115f62d93",
   "metadata": {},
   "outputs": [
    {
     "name": "stdout",
     "output_type": "stream",
     "text": [
      "BIjata\n"
     ]
    }
   ],
   "source": [
    "s1 = \"BIjata\"   #create or assign a new values to the string variable , cannot change any part of the string\n",
    "print (s1)"
   ]
  },
  {
   "cell_type": "code",
   "execution_count": 7,
   "id": "ffacef03-e9d8-4e66-9d33-799e0dd25370",
   "metadata": {},
   "outputs": [
    {
     "name": "stdout",
     "output_type": "stream",
     "text": [
      "AAAAA\n"
     ]
    }
   ],
   "source": [
    "s1 = \"AAAAA\"  #duplicates are allowed\n",
    "print(s1)"
   ]
  },
  {
   "cell_type": "code",
   "execution_count": 16,
   "id": "275e14ca-26e8-4fee-b845-79db67c9bd36",
   "metadata": {},
   "outputs": [
    {
     "name": "stdout",
     "output_type": "stream",
     "text": [
      "W World l\n"
     ]
    }
   ],
   "source": [
    "print(s2[0] , s2 , s2[3])"
   ]
  },
  {
   "cell_type": "code",
   "execution_count": 32,
   "id": "dc7f11bf-9754-45c5-96e6-ae077ef13e62",
   "metadata": {},
   "outputs": [],
   "source": [
    "# Triple Quotes - for multi line strings"
   ]
  },
  {
   "cell_type": "code",
   "execution_count": 4,
   "id": "4fe6bb6d-b712-496c-8159-3d76848b45d0",
   "metadata": {},
   "outputs": [],
   "source": [
    "story = \"\"\" Once upon a time there was a fox name Jack\"\"\""
   ]
  },
  {
   "cell_type": "code",
   "execution_count": 18,
   "id": "301a970b-f20b-436e-b2d5-1bd96e3f9fb8",
   "metadata": {},
   "outputs": [],
   "source": [
    "story2 = '''He was the greedy fox. '''"
   ]
  },
  {
   "cell_type": "code",
   "execution_count": 19,
   "id": "fc03e821-bca4-4b6e-9677-4a6ca1029e76",
   "metadata": {},
   "outputs": [
    {
     "name": "stdout",
     "output_type": "stream",
     "text": [
      " Once upon a time there was a fox name Jack , He was the greedy fox. \n"
     ]
    }
   ],
   "source": [
    "#concanate\n",
    "print (story + ' , ' + story2)"
   ]
  },
  {
   "cell_type": "code",
   "execution_count": 43,
   "id": "b7d08803-bc55-4172-94db-4456df867470",
   "metadata": {},
   "outputs": [
    {
     "data": {
      "text/plain": [
       "'world'"
      ]
     },
     "execution_count": 43,
     "metadata": {},
     "output_type": "execute_result"
    }
   ],
   "source": [
    "s2.lower()  #Low Case"
   ]
  },
  {
   "cell_type": "code",
   "execution_count": 44,
   "id": "4ee01de7-331b-4f71-a6db-b96c9dd933ba",
   "metadata": {},
   "outputs": [
    {
     "data": {
      "text/plain": [
       "'WORLD'"
      ]
     },
     "execution_count": 44,
     "metadata": {},
     "output_type": "execute_result"
    }
   ],
   "source": [
    "s2.upper()  #Capital Case"
   ]
  },
  {
   "cell_type": "code",
   "execution_count": 23,
   "id": "9b900886-7853-41a2-8b68-bdcb3e773c0b",
   "metadata": {},
   "outputs": [
    {
     "data": {
      "text/plain": [
       "False"
      ]
     },
     "execution_count": 23,
     "metadata": {},
     "output_type": "execute_result"
    }
   ],
   "source": [
    "s1.isdigit()"
   ]
  },
  {
   "cell_type": "code",
   "execution_count": 26,
   "id": "25f77487-8a7c-4cc4-90dc-aee39aa67e32",
   "metadata": {},
   "outputs": [
    {
     "data": {
      "text/plain": [
       "True"
      ]
     },
     "execution_count": 26,
     "metadata": {},
     "output_type": "execute_result"
    }
   ],
   "source": [
    "s1.isalpha()"
   ]
  },
  {
   "cell_type": "code",
   "execution_count": 27,
   "id": "698c43b1-3249-4c2f-914c-f076cc7f7da8",
   "metadata": {},
   "outputs": [
    {
     "data": {
      "text/plain": [
       "str"
      ]
     },
     "execution_count": 27,
     "metadata": {},
     "output_type": "execute_result"
    }
   ],
   "source": [
    "type(s1)"
   ]
  },
  {
   "cell_type": "code",
   "execution_count": 28,
   "id": "9af0f613-2c6e-4a21-ad2b-fcdbed5ee29e",
   "metadata": {},
   "outputs": [
    {
     "name": "stdout",
     "output_type": "stream",
     "text": [
      "['__add__', '__class__', '__contains__', '__delattr__', '__dir__', '__doc__', '__eq__', '__format__', '__ge__', '__getattribute__', '__getitem__', '__getnewargs__', '__gt__', '__hash__', '__init__', '__init_subclass__', '__iter__', '__le__', '__len__', '__lt__', '__mod__', '__mul__', '__ne__', '__new__', '__reduce__', '__reduce_ex__', '__repr__', '__rmod__', '__rmul__', '__setattr__', '__sizeof__', '__str__', '__subclasshook__', 'capitalize', 'casefold', 'center', 'count', 'encode', 'endswith', 'expandtabs', 'find', 'format', 'format_map', 'index', 'isalnum', 'isalpha', 'isascii', 'isdecimal', 'isdigit', 'isidentifier', 'islower', 'isnumeric', 'isprintable', 'isspace', 'istitle', 'isupper', 'join', 'ljust', 'lower', 'lstrip', 'maketrans', 'partition', 'removeprefix', 'removesuffix', 'replace', 'rfind', 'rindex', 'rjust', 'rpartition', 'rsplit', 'rstrip', 'split', 'splitlines', 'startswith', 'strip', 'swapcase', 'title', 'translate', 'upper', 'zfill']\n"
     ]
    }
   ],
   "source": [
    "print(dir(s1))"
   ]
  },
  {
   "cell_type": "code",
   "execution_count": 45,
   "id": "ae225631-718e-419b-a406-2faf1405a133",
   "metadata": {},
   "outputs": [
    {
     "data": {
      "text/plain": [
       "'                                               Hello                                                '"
      ]
     },
     "execution_count": 45,
     "metadata": {},
     "output_type": "execute_result"
    }
   ],
   "source": [
    "s1.center(100) #giving the alingment to form"
   ]
  },
  {
   "cell_type": "code",
   "execution_count": 40,
   "id": "c710b45a-9f63-42b0-b104-2693b6142b8b",
   "metadata": {},
   "outputs": [
    {
     "name": "stdout",
     "output_type": "stream",
     "text": [
      "43\n"
     ]
    }
   ],
   "source": [
    "print(len(story))"
   ]
  },
  {
   "cell_type": "code",
   "execution_count": 42,
   "id": "77804bc0-4881-4e07-8e83-8faa54d4ced8",
   "metadata": {},
   "outputs": [
    {
     "name": "stdout",
     "output_type": "stream",
     "text": [
      "5\n"
     ]
    }
   ],
   "source": [
    "print(story.count('a'))"
   ]
  },
  {
   "cell_type": "code",
   "execution_count": 5,
   "id": "5b0e2ce4-f964-4716-8126-c58dd0cdf456",
   "metadata": {},
   "outputs": [
    {
     "name": "stdout",
     "output_type": "stream",
     "text": [
      "['capitalize', 'casefold', 'center', 'count', 'encode', 'endswith', 'expandtabs', 'find', 'format', 'format_map', 'index', 'isalnum', 'isalpha', 'isascii', 'isdecimal', 'isdigit', 'isidentifier', 'islower', 'isnumeric', 'isprintable', 'isspace', 'istitle', 'isupper', 'join', 'ljust', 'lower', 'lstrip', 'maketrans', 'partition', 'removeprefix', 'removesuffix', 'replace', 'rfind', 'rindex', 'rjust', 'rpartition', 'rsplit', 'rstrip', 'split', 'splitlines', 'startswith', 'strip', 'swapcase', 'title', 'translate', 'upper', 'zfill']\n"
     ]
    }
   ],
   "source": [
    "methods = [method for method in dir(story) if callable(getattr(story, method)) and not method.startswith('__')]\n",
    "print(methods) #these are the functions that we can use to call the variable story"
   ]
  },
  {
   "cell_type": "code",
   "execution_count": 28,
   "id": "293c732e-d38c-4e51-b6aa-d81ed860f2a9",
   "metadata": {},
   "outputs": [
    {
     "name": "stdout",
     "output_type": "stream",
     "text": [
      " Once upbn a time there was a fbx name Jack\n"
     ]
    }
   ],
   "source": [
    "print(story.replace(\"o\", \"b\"))"
   ]
  },
  {
   "cell_type": "code",
   "execution_count": null,
   "id": "b2b35297-d5d7-4184-83a3-46c5e17e9a58",
   "metadata": {},
   "outputs": [],
   "source": []
  }
 ],
 "metadata": {
  "kernelspec": {
   "display_name": "Python 3 (ipykernel)",
   "language": "python",
   "name": "python3"
  },
  "language_info": {
   "codemirror_mode": {
    "name": "ipython",
    "version": 3
   },
   "file_extension": ".py",
   "mimetype": "text/x-python",
   "name": "python",
   "nbconvert_exporter": "python",
   "pygments_lexer": "ipython3",
   "version": "3.9.12"
  }
 },
 "nbformat": 4,
 "nbformat_minor": 5
}
