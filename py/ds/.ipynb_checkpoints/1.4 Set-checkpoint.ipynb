{
 "cells": [
  {
   "cell_type": "markdown",
   "id": "49588098",
   "metadata": {},
   "source": [
    "# SET\n",
    "- A Python set is a built-in data structure that represents an unordered collection of unique elements.\n",
    "- While the individual elements within a set must be immutable (e.g., numbers, strings, tuples), the set itself is mutable, meaning you can add or remove elements after its creation.\n",
    "- Adding Elements: add() method for a single element, update() method for multiple elements from an iterable.\n",
    "- Removing Elements: remove() (raises an error if the element is not found), discard() (does not raise an error), pop() (removes and returns an arbitrary element), clear() (removes all elements).\n",
    "- Union: union() or | operator.\n",
    "- Intersection: intersection() or & operator.\n",
    "- Difference: difference() or - operator.\n",
    "- Symmetric Difference: symmetric_difference() or ^ operator.\n",
    "- Membership Testing: in operator (e.g., element in my_set)."
   ]
  },
  {
   "cell_type": "code",
   "execution_count": 22,
   "id": "bce1db0f",
   "metadata": {},
   "outputs": [
    {
     "name": "stdout",
     "output_type": "stream",
     "text": [
      "{1, 2, 3, 4, 5}\n"
     ]
    }
   ],
   "source": [
    "# Creating a set using curly braces\n",
    "set1 = {1, 2, 3, 4, 5}\n",
    "print(set1)"
   ]
  },
  {
   "cell_type": "code",
   "execution_count": 23,
   "id": "8619f2fd",
   "metadata": {},
   "outputs": [
    {
     "data": {
      "text/plain": [
       "set"
      ]
     },
     "execution_count": 23,
     "metadata": {},
     "output_type": "execute_result"
    }
   ],
   "source": [
    "type(set1)"
   ]
  },
  {
   "cell_type": "code",
   "execution_count": 24,
   "id": "f71519f3",
   "metadata": {},
   "outputs": [
    {
     "data": {
      "text/plain": [
       "{6, 7, 8, 9, 10, 12}"
      ]
     },
     "execution_count": 24,
     "metadata": {},
     "output_type": "execute_result"
    }
   ],
   "source": [
    "# Creating a set from a list using the set() constructor\n",
    "set2 = set([7, 6, 8, 9, 10, 6 , 7 ,12])\n",
    "set2    # removes duplicates and sort data"
   ]
  },
  {
   "cell_type": "code",
   "execution_count": 25,
   "id": "0eb409a8",
   "metadata": {},
   "outputs": [],
   "source": [
    "teamA = {'India','Bangladesh','Pakistan','USA'}\n",
    "teamB = {'India', 'France','Bangladesh','UK', 'Sri Lanka', 'India'}"
   ]
  },
  {
   "cell_type": "code",
   "execution_count": 26,
   "id": "2a7cf455",
   "metadata": {},
   "outputs": [
    {
     "data": {
      "text/plain": [
       "{'Bangladesh', 'India', 'Pakistan', 'USA'}"
      ]
     },
     "execution_count": 26,
     "metadata": {},
     "output_type": "execute_result"
    }
   ],
   "source": [
    "teamA"
   ]
  },
  {
   "cell_type": "code",
   "execution_count": 27,
   "id": "196c8eeb",
   "metadata": {},
   "outputs": [
    {
     "data": {
      "text/plain": [
       "{'Bangladesh', 'France', 'India', 'Sri Lanka', 'UK'}"
      ]
     },
     "execution_count": 27,
     "metadata": {},
     "output_type": "execute_result"
    }
   ],
   "source": [
    "teamB # removes duplicates and sort data"
   ]
  },
  {
   "cell_type": "code",
   "execution_count": 28,
   "id": "4629cb57",
   "metadata": {},
   "outputs": [
    {
     "data": {
      "text/plain": [
       "{'Pakistan', 'USA'}"
      ]
     },
     "execution_count": 28,
     "metadata": {},
     "output_type": "execute_result"
    }
   ],
   "source": [
    "teamA - teamB"
   ]
  },
  {
   "cell_type": "code",
   "execution_count": 29,
   "id": "61722504",
   "metadata": {},
   "outputs": [],
   "source": [
    "teamA.add(\"Nepal\")"
   ]
  },
  {
   "cell_type": "code",
   "execution_count": 30,
   "id": "3048dbac",
   "metadata": {},
   "outputs": [
    {
     "data": {
      "text/plain": [
       "{'Bangladesh', 'India', 'Nepal', 'Pakistan', 'USA'}"
      ]
     },
     "execution_count": 30,
     "metadata": {},
     "output_type": "execute_result"
    }
   ],
   "source": [
    "teamA"
   ]
  },
  {
   "cell_type": "code",
   "execution_count": 31,
   "id": "23502ca2",
   "metadata": {},
   "outputs": [],
   "source": [
    "teamA.remove(\"Bangladesh\")"
   ]
  },
  {
   "cell_type": "code",
   "execution_count": 32,
   "id": "ba663c03",
   "metadata": {},
   "outputs": [
    {
     "data": {
      "text/plain": [
       "{'India', 'Nepal', 'Pakistan', 'USA'}"
      ]
     },
     "execution_count": 32,
     "metadata": {},
     "output_type": "execute_result"
    }
   ],
   "source": [
    "teamA"
   ]
  },
  {
   "cell_type": "markdown",
   "id": "c6f99a02",
   "metadata": {},
   "source": [
    "# Union"
   ]
  },
  {
   "cell_type": "code",
   "execution_count": 33,
   "id": "7839bb40",
   "metadata": {},
   "outputs": [
    {
     "name": "stdout",
     "output_type": "stream",
     "text": [
      "{'UK', 'USA', 'India', 'Pakistan', 'France', 'Nepal', 'Bangladesh', 'Sri Lanka'} \t\n"
     ]
    }
   ],
   "source": [
    "print(teamA.union(teamB), '\\t')"
   ]
  },
  {
   "cell_type": "code",
   "execution_count": 35,
   "id": "28afc4b3",
   "metadata": {},
   "outputs": [
    {
     "name": "stdout",
     "output_type": "stream",
     "text": [
      "{'UK', 'USA', 'India', 'Pakistan', 'France', 'Nepal', 'Bangladesh', 'Sri Lanka'} \n",
      "\n"
     ]
    }
   ],
   "source": [
    "print(teamA.union(teamB), '\\n')"
   ]
  },
  {
   "cell_type": "code",
   "execution_count": 37,
   "id": "380f5c93",
   "metadata": {},
   "outputs": [
    {
     "name": "stdout",
     "output_type": "stream",
     "text": [
      "{'UK', 'USA', 'India', 'Pakistan', 'France', 'Nepal', 'Bangladesh', 'Sri Lanka'}\n"
     ]
    }
   ],
   "source": [
    "print(teamA | teamB )"
   ]
  },
  {
   "cell_type": "markdown",
   "id": "62257793",
   "metadata": {},
   "source": [
    "# Intersection"
   ]
  },
  {
   "cell_type": "code",
   "execution_count": 40,
   "id": "d4709a27",
   "metadata": {},
   "outputs": [
    {
     "name": "stdout",
     "output_type": "stream",
     "text": [
      "{'India'} \t\n"
     ]
    }
   ],
   "source": [
    "print(teamA.intersection(teamB) , '\\t')"
   ]
  },
  {
   "cell_type": "code",
   "execution_count": 39,
   "id": "44e9680b",
   "metadata": {},
   "outputs": [
    {
     "name": "stdout",
     "output_type": "stream",
     "text": [
      "{'India'}\n"
     ]
    }
   ],
   "source": [
    "print (teamA & teamB)"
   ]
  },
  {
   "cell_type": "code",
   "execution_count": 41,
   "id": "2e8865e7",
   "metadata": {},
   "outputs": [
    {
     "name": "stdout",
     "output_type": "stream",
     "text": [
      "{'Bangladesh', 'France', 'Sri Lanka', 'UK'}\n"
     ]
    }
   ],
   "source": [
    "print(teamB - teamA)"
   ]
  },
  {
   "cell_type": "markdown",
   "id": "36c8aa45",
   "metadata": {},
   "source": [
    "# Symmetric Difference"
   ]
  },
  {
   "cell_type": "code",
   "execution_count": 43,
   "id": "a92e13a8",
   "metadata": {},
   "outputs": [
    {
     "name": "stdout",
     "output_type": "stream",
     "text": [
      "{'USA', 'Pakistan', 'UK', 'Nepal', 'Bangladesh', 'Sri Lanka', 'France'}\n"
     ]
    }
   ],
   "source": [
    "print(teamA ^ teamB)"
   ]
  },
  {
   "cell_type": "code",
   "execution_count": 44,
   "id": "7842a020",
   "metadata": {},
   "outputs": [
    {
     "name": "stdout",
     "output_type": "stream",
     "text": [
      "{'UK', 'USA', 'Pakistan', 'France', 'Nepal', 'Bangladesh', 'Sri Lanka'}\n"
     ]
    }
   ],
   "source": [
    "print(teamB ^ teamA)"
   ]
  },
  {
   "cell_type": "code",
   "execution_count": 45,
   "id": "0e01fa91",
   "metadata": {},
   "outputs": [
    {
     "name": "stdout",
     "output_type": "stream",
     "text": [
      "{'UK', 'USA', 'Pakistan', 'France', 'Nepal', 'Bangladesh', 'Sri Lanka'}\n"
     ]
    }
   ],
   "source": [
    "print(teamB.symmetric_difference(teamA))"
   ]
  },
  {
   "cell_type": "code",
   "execution_count": 49,
   "id": "259b7f70",
   "metadata": {},
   "outputs": [
    {
     "name": "stdout",
     "output_type": "stream",
     "text": [
      "A-  {'USA', 'India', 'Pakistan', 'Nepal'}     B-  {'UK', 'Bangladesh', 'India', 'Sri Lanka', 'France'}\n"
     ]
    }
   ],
   "source": [
    "print('A- ', teamA, '    B- ', teamB)"
   ]
  },
  {
   "cell_type": "code",
   "execution_count": 47,
   "id": "ed65d1a0",
   "metadata": {},
   "outputs": [
    {
     "name": "stdout",
     "output_type": "stream",
     "text": [
      "A-  {'USA', 'India', 'Pakistan', 'Nepal'} \n",
      "B-  {'UK', 'Bangladesh', 'India', 'Sri Lanka', 'France'}\n"
     ]
    }
   ],
   "source": [
    "print('A- ', teamA, '\\nB- ', teamB)"
   ]
  },
  {
   "cell_type": "code",
   "execution_count": 48,
   "id": "e4073b6d",
   "metadata": {},
   "outputs": [
    {
     "name": "stdout",
     "output_type": "stream",
     "text": [
      "A-  {'USA', 'India', 'Pakistan', 'Nepal'} \tB-  {'UK', 'Bangladesh', 'India', 'Sri Lanka', 'France'}\n"
     ]
    }
   ],
   "source": [
    "print('A- ', teamA, '\\tB- ', teamB)"
   ]
  },
  {
   "cell_type": "markdown",
   "id": "fd3f953f",
   "metadata": {},
   "source": [
    "# Membership Testing"
   ]
  },
  {
   "cell_type": "code",
   "execution_count": 50,
   "id": "cc6c4ab2",
   "metadata": {},
   "outputs": [
    {
     "data": {
      "text/plain": [
       "False"
      ]
     },
     "execution_count": 50,
     "metadata": {},
     "output_type": "execute_result"
    }
   ],
   "source": [
    "teamA in teamB"
   ]
  },
  {
   "cell_type": "code",
   "execution_count": 52,
   "id": "2fccb038",
   "metadata": {},
   "outputs": [
    {
     "data": {
      "text/plain": [
       "True"
      ]
     },
     "execution_count": 52,
     "metadata": {},
     "output_type": "execute_result"
    }
   ],
   "source": [
    "'India' in teamA"
   ]
  },
  {
   "cell_type": "code",
   "execution_count": 53,
   "id": "33132b0d",
   "metadata": {},
   "outputs": [
    {
     "ename": "TypeError",
     "evalue": "'set' object is not subscriptable",
     "output_type": "error",
     "traceback": [
      "\u001b[1;31m---------------------------------------------------------------------------\u001b[0m",
      "\u001b[1;31mTypeError\u001b[0m                                 Traceback (most recent call last)",
      "Input \u001b[1;32mIn [53]\u001b[0m, in \u001b[0;36m<cell line: 1>\u001b[1;34m()\u001b[0m\n\u001b[1;32m----> 1\u001b[0m \u001b[43mteamA\u001b[49m\u001b[43m[\u001b[49m\u001b[38;5;241;43m1\u001b[39;49m\u001b[43m]\u001b[49m\n",
      "\u001b[1;31mTypeError\u001b[0m: 'set' object is not subscriptable"
     ]
    }
   ],
   "source": [
    "teamA[1] # cannot retrieve values by index(position) , unordered"
   ]
  },
  {
   "cell_type": "code",
   "execution_count": 54,
   "id": "d329decf",
   "metadata": {},
   "outputs": [],
   "source": [
    "# check for numbers or mixed "
   ]
  },
  {
   "cell_type": "code",
   "execution_count": 55,
   "id": "6c66ae5e",
   "metadata": {},
   "outputs": [
    {
     "name": "stdout",
     "output_type": "stream",
     "text": [
      "{True, 'India', 1947}\n"
     ]
    }
   ],
   "source": [
    "mixedset = {'India', 1947, True, 'India'}\n",
    "print(mixedset)"
   ]
  },
  {
   "cell_type": "code",
   "execution_count": 56,
   "id": "a08ee85a",
   "metadata": {},
   "outputs": [
    {
     "data": {
      "text/plain": [
       "set"
      ]
     },
     "execution_count": 56,
     "metadata": {},
     "output_type": "execute_result"
    }
   ],
   "source": [
    "type(mixedset)"
   ]
  },
  {
   "cell_type": "code",
   "execution_count": 57,
   "id": "6faf19b7",
   "metadata": {},
   "outputs": [
    {
     "data": {
      "text/plain": [
       "('India', 'UK', 'USA', 'Bangladesh')"
      ]
     },
     "execution_count": 57,
     "metadata": {},
     "output_type": "execute_result"
    }
   ],
   "source": [
    "t1 = ('India','UK', 'USA', 'Bangladesh')\n",
    "t1"
   ]
  },
  {
   "cell_type": "code",
   "execution_count": 59,
   "id": "ff246140",
   "metadata": {},
   "outputs": [
    {
     "data": {
      "text/plain": [
       "False"
      ]
     },
     "execution_count": 59,
     "metadata": {},
     "output_type": "execute_result"
    }
   ],
   "source": [
    "t1 in teamA"
   ]
  },
  {
   "cell_type": "code",
   "execution_count": 61,
   "id": "5225ccf4",
   "metadata": {},
   "outputs": [
    {
     "data": {
      "text/plain": [
       "tuple"
      ]
     },
     "execution_count": 61,
     "metadata": {},
     "output_type": "execute_result"
    }
   ],
   "source": [
    "type(t1)"
   ]
  },
  {
   "cell_type": "code",
   "execution_count": 62,
   "id": "53fc2d0a",
   "metadata": {},
   "outputs": [
    {
     "ename": "TypeError",
     "evalue": "unsupported operand type(s) for |: 'set' and 'tuple'",
     "output_type": "error",
     "traceback": [
      "\u001b[1;31m---------------------------------------------------------------------------\u001b[0m",
      "\u001b[1;31mTypeError\u001b[0m                                 Traceback (most recent call last)",
      "Input \u001b[1;32mIn [62]\u001b[0m, in \u001b[0;36m<cell line: 1>\u001b[1;34m()\u001b[0m\n\u001b[1;32m----> 1\u001b[0m \u001b[43mteamA\u001b[49m\u001b[43m \u001b[49m\u001b[38;5;241;43m|\u001b[39;49m\u001b[43m \u001b[49m\u001b[43mt1\u001b[49m\n",
      "\u001b[1;31mTypeError\u001b[0m: unsupported operand type(s) for |: 'set' and 'tuple'"
     ]
    }
   ],
   "source": [
    "teamA | t1 # tuple and set cannot be mixed"
   ]
  },
  {
   "cell_type": "code",
   "execution_count": 64,
   "id": "14ebca5f",
   "metadata": {},
   "outputs": [
    {
     "name": "stdout",
     "output_type": "stream",
     "text": [
      "India\n",
      "UK\n",
      "USA\n",
      "Bangladesh\n"
     ]
    }
   ],
   "source": [
    "for i in t1:\n",
    "    print(i)"
   ]
  },
  {
   "cell_type": "code",
   "execution_count": 65,
   "id": "35db55c1",
   "metadata": {},
   "outputs": [
    {
     "name": "stdout",
     "output_type": "stream",
     "text": [
      "India True\n",
      "UK False\n",
      "USA True\n",
      "Bangladesh False\n"
     ]
    }
   ],
   "source": [
    "for i in t1:\n",
    "    print(i, i in teamA )"
   ]
  },
  {
   "cell_type": "code",
   "execution_count": 67,
   "id": "15a84089",
   "metadata": {},
   "outputs": [
    {
     "data": {
      "text/plain": [
       "True"
      ]
     },
     "execution_count": 67,
     "metadata": {},
     "output_type": "execute_result"
    }
   ],
   "source": [
    "# for eg\n",
    "1 in [1, 2, 3]"
   ]
  },
  {
   "cell_type": "code",
   "execution_count": 69,
   "id": "5e951b3f",
   "metadata": {},
   "outputs": [
    {
     "data": {
      "text/plain": [
       "True"
      ]
     },
     "execution_count": 69,
     "metadata": {},
     "output_type": "execute_result"
    }
   ],
   "source": [
    "'apple' in (\"orange\", \"apple\",1 , 502)"
   ]
  },
  {
   "cell_type": "code",
   "execution_count": null,
   "id": "acbfb877",
   "metadata": {},
   "outputs": [],
   "source": []
  }
 ],
 "metadata": {
  "kernelspec": {
   "display_name": "Python 3 (ipykernel)",
   "language": "python",
   "name": "python3"
  },
  "language_info": {
   "codemirror_mode": {
    "name": "ipython",
    "version": 3
   },
   "file_extension": ".py",
   "mimetype": "text/x-python",
   "name": "python",
   "nbconvert_exporter": "python",
   "pygments_lexer": "ipython3",
   "version": "3.9.12"
  }
 },
 "nbformat": 4,
 "nbformat_minor": 5
}
