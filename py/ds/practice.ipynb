{
 "cells": [
  {
   "cell_type": "code",
   "execution_count": 2,
   "id": "92e85eb0",
   "metadata": {},
   "outputs": [],
   "source": [
    "x = \"I'd like to sing a song\""
   ]
  },
  {
   "cell_type": "code",
   "execution_count": 3,
   "id": "5d9726de",
   "metadata": {
    "scrolled": true
   },
   "outputs": [
    {
     "name": "stdout",
     "output_type": "stream",
     "text": [
      "I'd like to sing a song\n"
     ]
    }
   ],
   "source": [
    "print(x)"
   ]
  },
  {
   "cell_type": "code",
   "execution_count": 4,
   "id": "a0af1fd0",
   "metadata": {},
   "outputs": [],
   "source": [
    "y = \"also dance\""
   ]
  },
  {
   "cell_type": "code",
   "execution_count": 5,
   "id": "611f1ae9",
   "metadata": {},
   "outputs": [
    {
     "data": {
      "text/plain": [
       "'also dance'"
      ]
     },
     "execution_count": 5,
     "metadata": {},
     "output_type": "execute_result"
    }
   ],
   "source": [
    "y"
   ]
  },
  {
   "cell_type": "code",
   "execution_count": 6,
   "id": "4a8acc0d",
   "metadata": {},
   "outputs": [],
   "source": [
    "message = x + y"
   ]
  },
  {
   "cell_type": "code",
   "execution_count": 7,
   "id": "c19bd04d",
   "metadata": {},
   "outputs": [
    {
     "data": {
      "text/plain": [
       "\"I'd like to sing a songalso dance\""
      ]
     },
     "execution_count": 7,
     "metadata": {},
     "output_type": "execute_result"
    }
   ],
   "source": [
    "message"
   ]
  },
  {
   "cell_type": "code",
   "execution_count": null,
   "id": "0cb33acf",
   "metadata": {},
   "outputs": [],
   "source": []
  }
 ],
 "metadata": {
  "kernelspec": {
   "display_name": "Python 3 (ipykernel)",
   "language": "python",
   "name": "python3"
  },
  "language_info": {
   "codemirror_mode": {
    "name": "ipython",
    "version": 3
   },
   "file_extension": ".py",
   "mimetype": "text/x-python",
   "name": "python",
   "nbconvert_exporter": "python",
   "pygments_lexer": "ipython3",
   "version": "3.9.12"
  }
 },
 "nbformat": 4,
 "nbformat_minor": 5
}
