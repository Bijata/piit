{
 "cells": [
  {
   "cell_type": "markdown",
   "id": "0b314857-be45-4c88-99db-1cc345eb5ba3",
   "metadata": {},
   "source": [
    "# Topic of the File"
   ]
  },
  {
   "cell_type": "markdown",
   "id": "9b865b03-826c-406d-a870-e7dcc2a25da3",
   "metadata": {},
   "source": [
    "- Every Cell on right side there icons\n",
    "- Duplicates\n",
    "- Move Up\n",
    "- Move Down\n",
    "- Insert new cell above this cell\n",
    "- Insert new cell below this cell\n",
    "- Delete this celll"
   ]
  },
  {
   "cell_type": "markdown",
   "id": "364047cc-b20c-4d01-be12-8a478a0cb527",
   "metadata": {},
   "source": [
    "- A raw cell in a Jupyter Notebook is a cell type specifically designed to hold content that is not intended to be executed by the notebook's kernel. Unlike code cells, which run programming language code, or Markdown cells, which render formatted text, raw cells are used to store data or content in its original, unprocessed form\n",
    "- Code\n",
    "- Markdown\n",
    "- Raw"
   ]
  },
  {
   "cell_type": "markdown",
   "id": "177265bd-c3cd-41af-bc98-5ab20bad63c4",
   "metadata": {},
   "source": [
    "## Kernel in jupyter\n",
    "- In Jupyter Notebook, a kernel is a computational engine responsible for executing the code within a notebook document. It acts as the backend process that communicates with the Jupyter frontend (the web-based user interface) to receive code, execute it, and return the results, including outputs, errors, and rich media like plots or images."
   ]
  },
  {
   "cell_type": "code",
   "execution_count": null,
   "id": "9d58662e-7a44-4aed-92e3-3217af2f0851",
   "metadata": {},
   "outputs": [],
   "source": []
  },
  {
   "cell_type": "code",
   "execution_count": null,
   "id": "6a629bba-70f1-4e85-a0af-a6a0d8dd2f11",
   "metadata": {},
   "outputs": [],
   "source": []
  }
 ],
 "metadata": {
  "kernelspec": {
   "display_name": "Python 3 (ipykernel)",
   "language": "python",
   "name": "python3"
  },
  "language_info": {
   "codemirror_mode": {
    "name": "ipython",
    "version": 3
   },
   "file_extension": ".py",
   "mimetype": "text/x-python",
   "name": "python",
   "nbconvert_exporter": "python",
   "pygments_lexer": "ipython3",
   "version": "3.9.12"
  }
 },
 "nbformat": 4,
 "nbformat_minor": 5
}
