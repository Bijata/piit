{
 "cells": [
  {
   "cell_type": "markdown",
   "id": "89834df2-03cc-480d-aa4c-271b1c816eda",
   "metadata": {},
   "source": [
    "# TUPLE"
   ]
  },
  {
   "cell_type": "markdown",
   "id": "4da32e30-bf77-45fa-81e1-e1ea0abe6f77",
   "metadata": {},
   "source": [
    "- A tuple in Python is an ordered collection of items, similar to a list, but with a key distinction: immutability. This means that once a tuple is created, its elements cannot be changed, added, or removed\n",
    "- IMMUTABLE (elements cannot be change)\n",
    "- ordered\n",
    "- duplicates\n",
    "- heterogenous (accepts multiple data types - no, text, logical)\n",
    "- created by ( ) round brackets\n",
    "- Tuples in Python are immutable, which means their elements cannot be changed, added, or removed after the tuple has been created. This immutability is a fundamental characteristic that distinguishes them from lists"
   ]
  },
  {
   "cell_type": "code",
   "execution_count": 16,
   "id": "122db56a-70b2-4b9e-9a6a-4fa0f2e6cc18",
   "metadata": {},
   "outputs": [],
   "source": [
    "# Empty tuple\n",
    "my_tuple = ()"
   ]
  },
  {
   "cell_type": "code",
   "execution_count": 17,
   "id": "ed42c380-47b5-4346-8a02-9827c61ba6bf",
   "metadata": {},
   "outputs": [
    {
     "data": {
      "text/plain": [
       "tuple"
      ]
     },
     "execution_count": 17,
     "metadata": {},
     "output_type": "execute_result"
    }
   ],
   "source": [
    "type(my_tuple)"
   ]
  },
  {
   "cell_type": "code",
   "execution_count": 18,
   "id": "c14c3c5b-8f3c-49de-bc16-a0116c7da331",
   "metadata": {},
   "outputs": [],
   "source": [
    "# Tuple with multiple items\n",
    "fruits = ('Apple', 'Banana', \"Orange\")"
   ]
  },
  {
   "cell_type": "code",
   "execution_count": 19,
   "id": "df3d5d7c-269d-4b51-acfd-283316eec0c6",
   "metadata": {},
   "outputs": [
    {
     "data": {
      "text/plain": [
       "('Apple', 'Banana', 'Orange')"
      ]
     },
     "execution_count": 19,
     "metadata": {},
     "output_type": "execute_result"
    }
   ],
   "source": [
    "fruits"
   ]
  },
  {
   "cell_type": "code",
   "execution_count": 20,
   "id": "9e652765-819a-4317-9b74-1d5768a0fe3e",
   "metadata": {},
   "outputs": [],
   "source": [
    "fruits = ('Apple', 'Banana', \"Orange\", \"Apple\")"
   ]
  },
  {
   "cell_type": "code",
   "execution_count": 21,
   "id": "5a4b08da-5f5c-4763-8fed-be91d1efa0fc",
   "metadata": {},
   "outputs": [
    {
     "data": {
      "text/plain": [
       "('Apple', 'Banana', 'Orange', 'Apple')"
      ]
     },
     "execution_count": 21,
     "metadata": {},
     "output_type": "execute_result"
    }
   ],
   "source": [
    "fruits"
   ]
  },
  {
   "cell_type": "code",
   "execution_count": 32,
   "id": "1ea6879c-79f8-4427-97f0-7f83af7db1b1",
   "metadata": {},
   "outputs": [
    {
     "data": {
      "text/plain": [
       "4"
      ]
     },
     "execution_count": 32,
     "metadata": {},
     "output_type": "execute_result"
    }
   ],
   "source": [
    "len(fruits)"
   ]
  },
  {
   "cell_type": "code",
   "execution_count": 23,
   "id": "0cd913f1-b01a-467f-9609-e9d9ee6efc86",
   "metadata": {},
   "outputs": [],
   "source": [
    "# A tuple with strings, integers and float/boolean values:\n",
    "tuple1 = (\"man\", 1.1, True, 200) "
   ]
  },
  {
   "cell_type": "code",
   "execution_count": 24,
   "id": "81cf19ad-ebb3-47a3-b2ed-fdf5d3b81e0c",
   "metadata": {},
   "outputs": [
    {
     "data": {
      "text/plain": [
       "('man', 1.1, True, 200)"
      ]
     },
     "execution_count": 24,
     "metadata": {},
     "output_type": "execute_result"
    }
   ],
   "source": [
    "tuple1"
   ]
  },
  {
   "cell_type": "code",
   "execution_count": 25,
   "id": "fd4ee690-c090-4ded-931a-a2799bee55e4",
   "metadata": {
    "scrolled": true
   },
   "outputs": [
    {
     "data": {
      "text/plain": [
       "200"
      ]
     },
     "execution_count": 25,
     "metadata": {},
     "output_type": "execute_result"
    }
   ],
   "source": [
    "tuple1[3]"
   ]
  },
  {
   "cell_type": "code",
   "execution_count": 26,
   "id": "54291eda",
   "metadata": {},
   "outputs": [
    {
     "data": {
      "text/plain": [
       "'man'"
      ]
     },
     "execution_count": 26,
     "metadata": {},
     "output_type": "execute_result"
    }
   ],
   "source": [
    "tuple1[0]"
   ]
  },
  {
   "cell_type": "code",
   "execution_count": 27,
   "id": "ca992364-1fe4-44db-bb82-ca4993bdb1fd",
   "metadata": {},
   "outputs": [],
   "source": [
    "# Tuple with mixed and duplicate data types\n",
    "mixed_tuple = (1, \"hello\", 3.14, True,1)"
   ]
  },
  {
   "cell_type": "code",
   "execution_count": 28,
   "id": "84edf122-8502-4f4f-b0b2-d053ac938591",
   "metadata": {},
   "outputs": [
    {
     "data": {
      "text/plain": [
       "(1, 'hello', 3.14, True, 1)"
      ]
     },
     "execution_count": 28,
     "metadata": {},
     "output_type": "execute_result"
    }
   ],
   "source": [
    "mixed_tuple"
   ]
  },
  {
   "cell_type": "code",
   "execution_count": 29,
   "id": "08e28ea3-b10d-4d1e-b8e6-8f97576e93da",
   "metadata": {},
   "outputs": [],
   "source": [
    "# single item tuple (# note comma)\n",
    "single_item_tuple = (\"cheery\",)"
   ]
  },
  {
   "cell_type": "code",
   "execution_count": 30,
   "id": "60e204e2-5455-457c-b6b8-d1642dce61cb",
   "metadata": {},
   "outputs": [
    {
     "data": {
      "text/plain": [
       "('cheery',)"
      ]
     },
     "execution_count": 30,
     "metadata": {},
     "output_type": "execute_result"
    }
   ],
   "source": [
    "single_item_tuple"
   ]
  },
  {
   "cell_type": "code",
   "execution_count": 34,
   "id": "6812d1bb-0aee-4277-b4b3-d62fd5fc55f3",
   "metadata": {},
   "outputs": [
    {
     "ename": "TypeError",
     "evalue": "'tuple' object does not support item assignment",
     "output_type": "error",
     "traceback": [
      "\u001b[1;31m---------------------------------------------------------------------------\u001b[0m",
      "\u001b[1;31mTypeError\u001b[0m                                 Traceback (most recent call last)",
      "Input \u001b[1;32mIn [34]\u001b[0m, in \u001b[0;36m<cell line: 1>\u001b[1;34m()\u001b[0m\n\u001b[1;32m----> 1\u001b[0m mixed_tuple [\u001b[38;5;241m1\u001b[39m] \u001b[38;5;241m=\u001b[39m \u001b[38;5;124m\"\u001b[39m\u001b[38;5;124mHi\u001b[39m\u001b[38;5;124m\"\u001b[39m\n",
      "\u001b[1;31mTypeError\u001b[0m: 'tuple' object does not support item assignment"
     ]
    }
   ],
   "source": [
    "mixed_tuple [1] = \"Hi\" # error - immutable, ie values in the tuple cannot be changed"
   ]
  },
  {
   "cell_type": "code",
   "execution_count": null,
   "id": "fb21d9e9",
   "metadata": {},
   "outputs": [],
   "source": [
    "mixed_tuple = (1, \"hello\", 'Everest', 'Lopche', 3.14, True,1) #cannot change any individual element of the tuple can be added"
   ]
  },
  {
   "cell_type": "code",
   "execution_count": 42,
   "id": "3ed67794",
   "metadata": {},
   "outputs": [
    {
     "name": "stdout",
     "output_type": "stream",
     "text": [
      "(1, 'hello', 'Everest', 'Lopche', 3.14, True, 1)\n"
     ]
    }
   ],
   "source": [
    "print(mixed_tuple)"
   ]
  },
  {
   "cell_type": "code",
   "execution_count": 41,
   "id": "224684cb",
   "metadata": {},
   "outputs": [
    {
     "data": {
      "text/plain": [
       "(1, 'hello', 'Everest', 'Lopche', 3.14, True, 1)"
      ]
     },
     "execution_count": 41,
     "metadata": {},
     "output_type": "execute_result"
    }
   ],
   "source": [
    "mixed_tuple"
   ]
  },
  {
   "cell_type": "code",
   "execution_count": 52,
   "id": "9f62622c",
   "metadata": {},
   "outputs": [
    {
     "data": {
      "text/plain": [
       "3"
      ]
     },
     "execution_count": 52,
     "metadata": {},
     "output_type": "execute_result"
    }
   ],
   "source": [
    "mixed_tuple.count(True) # 1=3 count coz true is also 1"
   ]
  },
  {
   "cell_type": "code",
   "execution_count": 53,
   "id": "5d8135c5",
   "metadata": {},
   "outputs": [
    {
     "name": "stdout",
     "output_type": "stream",
     "text": [
      "['__add__', '__class__', '__class_getitem__', '__contains__', '__delattr__', '__dir__', '__doc__', '__eq__', '__format__', '__ge__', '__getattribute__', '__getitem__', '__getnewargs__', '__gt__', '__hash__', '__init__', '__init_subclass__', '__iter__', '__le__', '__len__', '__lt__', '__mul__', '__ne__', '__new__', '__reduce__', '__reduce_ex__', '__repr__', '__rmul__', '__setattr__', '__sizeof__', '__str__', '__subclasshook__', 'count', 'index'] \t \n"
     ]
    }
   ],
   "source": [
    "print(dir(tuple),'\\t ')  #function available for tuple ds"
   ]
  },
  {
   "cell_type": "code",
   "execution_count": 54,
   "id": "8fab3f7f",
   "metadata": {},
   "outputs": [
    {
     "name": "stdout",
     "output_type": "stream",
     "text": [
      "['count', 'index']\n"
     ]
    }
   ],
   "source": [
    "methods = [method for method in dir(tuple) if callable(getattr(tuple, method)) and not method.startswith('__')]\n",
    "print(methods)"
   ]
  },
  {
   "cell_type": "code",
   "execution_count": 55,
   "id": "87c89351",
   "metadata": {},
   "outputs": [
    {
     "ename": "TypeError",
     "evalue": "'>' not supported between instances of 'str' and 'int'",
     "output_type": "error",
     "traceback": [
      "\u001b[1;31m---------------------------------------------------------------------------\u001b[0m",
      "\u001b[1;31mTypeError\u001b[0m                                 Traceback (most recent call last)",
      "Input \u001b[1;32mIn [55]\u001b[0m, in \u001b[0;36m<cell line: 1>\u001b[1;34m()\u001b[0m\n\u001b[1;32m----> 1\u001b[0m \u001b[38;5;28;43mmax\u001b[39;49m\u001b[43m(\u001b[49m\u001b[43mmixed_tuple\u001b[49m\u001b[43m)\u001b[49m\n",
      "\u001b[1;31mTypeError\u001b[0m: '>' not supported between instances of 'str' and 'int'"
     ]
    }
   ],
   "source": [
    "max(mixed_tuple)   #error due to mixed types"
   ]
  },
  {
   "cell_type": "code",
   "execution_count": 56,
   "id": "cafab420",
   "metadata": {},
   "outputs": [
    {
     "name": "stdout",
     "output_type": "stream",
     "text": [
      "(3, 2, 7, 10)\n"
     ]
    }
   ],
   "source": [
    "tuple2 = (3 , 2 , 7 ,10)\n",
    "print(tuple2)"
   ]
  },
  {
   "cell_type": "code",
   "execution_count": 57,
   "id": "a3368b43",
   "metadata": {},
   "outputs": [
    {
     "data": {
      "text/plain": [
       "4"
      ]
     },
     "execution_count": 57,
     "metadata": {},
     "output_type": "execute_result"
    }
   ],
   "source": [
    "len(tuple2)"
   ]
  },
  {
   "cell_type": "code",
   "execution_count": 60,
   "id": "19bfe83d",
   "metadata": {},
   "outputs": [
    {
     "data": {
      "text/plain": [
       "3"
      ]
     },
     "execution_count": 60,
     "metadata": {},
     "output_type": "execute_result"
    }
   ],
   "source": [
    "tuple2.index(10) #knowing the position of element 10"
   ]
  },
  {
   "cell_type": "code",
   "execution_count": 65,
   "id": "874660d7",
   "metadata": {},
   "outputs": [
    {
     "data": {
      "text/plain": [
       "1"
      ]
     },
     "execution_count": 65,
     "metadata": {},
     "output_type": "execute_result"
    }
   ],
   "source": [
    "tuple2.count(7) # how many times 7 is in the tuple"
   ]
  },
  {
   "cell_type": "code",
   "execution_count": 67,
   "id": "e8a74421",
   "metadata": {},
   "outputs": [
    {
     "data": {
      "text/plain": [
       "7"
      ]
     },
     "execution_count": 67,
     "metadata": {},
     "output_type": "execute_result"
    }
   ],
   "source": [
    "tuple2[2]"
   ]
  },
  {
   "cell_type": "code",
   "execution_count": 68,
   "id": "19120981",
   "metadata": {},
   "outputs": [
    {
     "data": {
      "text/plain": [
       "10"
      ]
     },
     "execution_count": 68,
     "metadata": {},
     "output_type": "execute_result"
    }
   ],
   "source": [
    "max(tuple2)"
   ]
  },
  {
   "cell_type": "code",
   "execution_count": 69,
   "id": "fe62ff68",
   "metadata": {},
   "outputs": [
    {
     "data": {
      "text/plain": [
       "2"
      ]
     },
     "execution_count": 69,
     "metadata": {},
     "output_type": "execute_result"
    }
   ],
   "source": [
    "min(tuple2)"
   ]
  },
  {
   "cell_type": "code",
   "execution_count": null,
   "id": "90008504",
   "metadata": {},
   "outputs": [],
   "source": []
  }
 ],
 "metadata": {
  "kernelspec": {
   "display_name": "Python 3 (ipykernel)",
   "language": "python",
   "name": "python3"
  },
  "language_info": {
   "codemirror_mode": {
    "name": "ipython",
    "version": 3
   },
   "file_extension": ".py",
   "mimetype": "text/x-python",
   "name": "python",
   "nbconvert_exporter": "python",
   "pygments_lexer": "ipython3",
   "version": "3.9.12"
  }
 },
 "nbformat": 4,
 "nbformat_minor": 5
}
