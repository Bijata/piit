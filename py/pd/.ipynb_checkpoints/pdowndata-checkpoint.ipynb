{
 "cells": [
  {
   "cell_type": "markdown",
   "id": "9cac9768",
   "metadata": {},
   "source": [
    "# Python - Creating Own Data"
   ]
  },
  {
   "cell_type": "markdown",
   "id": "0e12d102",
   "metadata": {},
   "source": [
    "create data inside python - list, dictionary, distribution etc\n",
    "upload data from laptop - csv, excel, email attachment , etc\n",
    "import data from web - git, kaggle, url etc"
   ]
  },
  {
   "cell_type": "code",
   "execution_count": 1,
   "id": "93ce9e5b",
   "metadata": {},
   "outputs": [],
   "source": [
    "import pandas as pd\n",
    "import numpy as np\n",
    "import random # create random values"
   ]
  },
  {
   "cell_type": "markdown",
   "id": "1effa51b",
   "metadata": {},
   "source": [
    "## structure gets change by use of brackets and the combination\n",
    "- list [ ]\n",
    "- tuple ()\n",
    "- set { }"
   ]
  },
  {
   "cell_type": "markdown",
   "id": "ffff9b10",
   "metadata": {},
   "source": [
    "# Step-1 : Setup"
   ]
  },
  {
   "cell_type": "code",
   "execution_count": 2,
   "id": "75316dec",
   "metadata": {},
   "outputs": [
    {
     "ename": "SyntaxError",
     "evalue": "invalid syntax (771657026.py, line 1)",
     "output_type": "error",
     "traceback": [
      "\u001b[1;36m  Input \u001b[1;32mIn [2]\u001b[1;36m\u001b[0m\n\u001b[1;33m    - Create data using various Python structures\u001b[0m\n\u001b[1;37m             ^\u001b[0m\n\u001b[1;31mSyntaxError\u001b[0m\u001b[1;31m:\u001b[0m invalid syntax\n"
     ]
    }
   ],
   "source": [
    "- Create data using various Python structures\n",
    "- 20 students - rollno, sname, gender, course, scores, age"
   ]
  },
  {
   "cell_type": "code",
   "execution_count": null,
   "id": "15e7ef1b",
   "metadata": {},
   "outputs": [],
   "source": [
    "#List - rollno\n",
    "rollno = list(range(1,21))  # 20 students; 1 to 21-1\n",
    "print(type(rollno),rollno)"
   ]
  },
  {
   "cell_type": "code",
   "execution_count": null,
   "id": "e14b2d92",
   "metadata": {},
   "outputs": [],
   "source": [
    "# Names - (tuple) - immutable, cannot change\n",
    "sname = (\"Alice\", \"Bob\", \"Charlie\", \"Diana\", \"Ethan\",  \"Fiona\", \"George\", \"Hannah\", \"Ian\", \"Jasmine\",\\\n",
    "        \"Kevin\", \"Lily\", \"Mike\", \"Nina\", \"Oscar\",  \"Priya\", \"Quinn\", \"Raj\", \"Sophia\", \"Tom\")\n",
    "print(type(sname),sname)"
   ]
  },
  {
   "cell_type": "code",
   "execution_count": null,
   "id": "9bc7d36b",
   "metadata": {},
   "outputs": [],
   "source": [
    "#gender- set {unique}\n",
    "genders_set ={\"Male\", \"Female\", 'Male', 'Female'}\n",
    "gender = [random.choice(list(genders_set)) for _ in rollno] #create gender values- as size of rollno\n",
    "print(gender)"
   ]
  },
  {
   "cell_type": "code",
   "execution_count": null,
   "id": "ef9dca15",
   "metadata": {},
   "outputs": [],
   "source": [
    "print('Males- ',gender.count(\"Male\"), 'Females- ', gender.count(\"Female\"))"
   ]
  },
  {
   "cell_type": "code",
   "execution_count": null,
   "id": "94bdd485",
   "metadata": {},
   "outputs": [],
   "source": [
    "random.randint(1,4) # random no between 1 and 4 incl and its output change every time run the cell"
   ]
  },
  {
   "cell_type": "code",
   "execution_count": null,
   "id": "a9dc1482",
   "metadata": {},
   "outputs": [],
   "source": [
    "# Course - dictionary : {key:value} pair\n",
    "courses_dict = {1: \"CS\", 2: \"IT\", 3: \"AI\", 4: \"DS\"} # mapping\n",
    "course =[courses_dict[random.randint(1,4)] for _ in rollno]\n",
    "print(list(course))"
   ]
  },
  {
   "cell_type": "code",
   "execution_count": null,
   "id": "24f7cfa6",
   "metadata": {},
   "outputs": [],
   "source": [
    "courses_set ={\"CS\", \"IT\", 'AI', 'DS'} # can use any random function as of cell above to this cell\n",
    "course = [random.choice(list(courses_set)) for _ in rollno]\n",
    "print(list(course))"
   ]
  },
  {
   "cell_type": "code",
   "execution_count": null,
   "id": "c284dd9d",
   "metadata": {},
   "outputs": [],
   "source": [
    "x = np.random.normal(loc= 50, scale =2 , size =5)\n",
    "print(x)"
   ]
  },
  {
   "cell_type": "code",
   "execution_count": null,
   "id": "e509f9fa",
   "metadata": {},
   "outputs": [],
   "source": [
    "np.random.normal(70, 10 , len (rollno)) # import from numpy libray of normal distribution where mean value is 70 , and std. dev\n",
    "                                          #is 10 ie result will be  +/-10 of mean 70  of 20students(len of rollno)"
   ]
  },
  {
   "cell_type": "code",
   "execution_count": null,
   "id": "d0561345",
   "metadata": {},
   "outputs": [],
   "source": [
    "np.clip(np.random.normal(70, 10 ,len (rollno)), 60,80) #limits values between 60-80\n",
    "#https://numpy.org/devdocs/reference/generated/numpy.clip.html"
   ]
  },
  {
   "cell_type": "code",
   "execution_count": null,
   "id": "13f4694d",
   "metadata": {},
   "outputs": [],
   "source": [
    "a = np.arange(10)\n",
    "print(a) #array [0 1 2 3 4 5 6 7 8 9]\n",
    "np.clip(a,3,8)"
   ]
  },
  {
   "cell_type": "code",
   "execution_count": null,
   "id": "02c58369",
   "metadata": {},
   "outputs": [],
   "source": [
    "# Scores - random normal\n",
    "# Normally distributed around mean=70, std=10, clipped to 40–100\n",
    "#score = np.clip(np.random.normal(70, 10, len(rollno)), 45, 95).round(1)\n",
    "score = np.random.normal(70, 15, len(rollno))\n",
    "print(score, ':::', np.mean(score),':::', np.std(score))\n",
    "# or"
   ]
  },
  {
   "cell_type": "code",
   "execution_count": null,
   "id": "6ddd285a",
   "metadata": {},
   "outputs": [],
   "source": [
    "score = np.clip(score, 60,90)\n",
    "print (score)"
   ]
  },
  {
   "cell_type": "code",
   "execution_count": null,
   "id": "ee19253c",
   "metadata": {},
   "outputs": [],
   "source": [
    "score = np.clip(np.random.normal(50,15, len (rollno)), 40,60)\n",
    "print(score)"
   ]
  },
  {
   "cell_type": "code",
   "execution_count": null,
   "id": "9cf793dc",
   "metadata": {},
   "outputs": [],
   "source": [
    "# Age is integer\n",
    "age = np.random.randint(19 , 31 , size=len(rollno))\n",
    "age"
   ]
  },
  {
   "cell_type": "markdown",
   "id": "94e67ece",
   "metadata": {},
   "source": [
    "#?np.random.randint"
   ]
  },
  {
   "cell_type": "code",
   "execution_count": null,
   "id": "0299af2d",
   "metadata": {},
   "outputs": [],
   "source": [
    "print(rollno, '\\n', sname,'\\n', gender, '\\n', course, '\\n', score,'\\n', age) #create columns of Data Frame"
   ]
  },
  {
   "cell_type": "markdown",
   "id": "a3ac4393",
   "metadata": {},
   "source": [
    "## Step - 2 : Data Frame\n",
    "- rows and columns\n",
    "- Columns - variable names, Rows- data for each student\n",
    "- Join Columns to Data Frame\n",
    "- 20 Students Data\n",
    "- Dictionary : key:value\n",
    "- pd.DataFrame({ 'key1':values1, 'key2';values}"
   ]
  },
  {
   "cell_type": "code",
   "execution_count": null,
   "id": "9b499422",
   "metadata": {},
   "outputs": [],
   "source": [
    "df = pd.DataFrame({  \"rollno\": rollno,  \"sname\": sname,  \"gender\": gender, \"course\": course,  \"score\": score, \"age\": age})\n",
    "df.head(2)"
   ]
  },
  {
   "cell_type": "code",
   "execution_count": null,
   "id": "9c8556b8",
   "metadata": {},
   "outputs": [],
   "source": [
    "df.tail(2)"
   ]
  },
  {
   "cell_type": "code",
   "execution_count": null,
   "id": "8ff19b47",
   "metadata": {},
   "outputs": [],
   "source": [
    "df.shape"
   ]
  },
  {
   "cell_type": "markdown",
   "id": "e736e893",
   "metadata": {},
   "source": [
    "## Larger DF\n",
    "- install faker for snames : pip install faker\n",
    "- https://pypi.org/project/Faker/"
   ]
  },
  {
   "cell_type": "code",
   "execution_count": null,
   "id": "3ea23f59",
   "metadata": {},
   "outputs": [],
   "source": [
    "#pip install faker"
   ]
  },
  {
   "cell_type": "code",
   "execution_count": null,
   "id": "889af549",
   "metadata": {},
   "outputs": [],
   "source": [
    "import pandas as pd\n",
    "import numpy as np\n",
    "import random\n",
    "from faker import Faker"
   ]
  },
  {
   "cell_type": "code",
   "execution_count": null,
   "id": "b68090f8",
   "metadata": {},
   "outputs": [],
   "source": [
    "n = 1001\n",
    "fake = Faker()\n",
    "fake"
   ]
  },
  {
   "cell_type": "code",
   "execution_count": null,
   "id": "1cbe491b",
   "metadata": {},
   "outputs": [],
   "source": [
    "print(fake.name())\n",
    "print(fake.address())\n",
    "print(fake.email())\n",
    "print(fake.date_of_birth())"
   ]
  },
  {
   "cell_type": "code",
   "execution_count": null,
   "id": "09455e16",
   "metadata": {},
   "outputs": [],
   "source": [
    "print(tuple(fake.name()for _ in rollno[0:20]))"
   ]
  },
  {
   "cell_type": "code",
   "execution_count": null,
   "id": "b05285ea",
   "metadata": {},
   "outputs": [],
   "source": [
    "n = 1001\n",
    "rollno = list(range(1,n))\n",
    "sname = tuple(fake.name() for _ in rollno)\n",
    "gender_set = {\"Male\",\"Female\"}\n",
    "gender = [random.choice(list(gender_set)) for _ in rollno]\n",
    "course_dict = {1:\"CS\", 2:\"IT\", 3:\"AS\", 4:\"DS\"}\n",
    "course = [course_dict[random.randint(1,4)] for _ in rollno]\n",
    "score = np.clip(np.random.normal(70,10, len(rollno)), 40,100).round(1) #round vaule ie22.23 = 22.2\n",
    "age = np.random.randint(18,30, size=len(rollno))"
   ]
  },
  {
   "cell_type": "code",
   "execution_count": null,
   "id": "11cbd622",
   "metadata": {},
   "outputs": [],
   "source": [
    "df2 = pd.DataFrame({ 'rollno': rollno , 'sname': sname , 'gender': gender ,'course': course , 'score': score , 'age': age})\n",
    "df2.head()"
   ]
  },
  {
   "cell_type": "code",
   "execution_count": null,
   "id": "de9c32ad",
   "metadata": {},
   "outputs": [],
   "source": [
    "df2.tail()"
   ]
  },
  {
   "cell_type": "code",
   "execution_count": null,
   "id": "43a508ff",
   "metadata": {},
   "outputs": [],
   "source": [
    "df2.shape"
   ]
  },
  {
   "cell_type": "code",
   "execution_count": null,
   "id": "d8990317",
   "metadata": {},
   "outputs": [],
   "source": [
    "df2.info()"
   ]
  },
  {
   "cell_type": "code",
   "execution_count": null,
   "id": "a4595c5b",
   "metadata": {},
   "outputs": [],
   "source": [
    "df2.to_csv('../../data/student17082025.csv',index=False)\n",
    "#df2.to_csv('C:/analytics/data/student160825.csv', index=False)\n",
    "# the folder and file should be correct"
   ]
  },
  {
   "cell_type": "code",
   "execution_count": 4,
   "id": "5f013b00",
   "metadata": {},
   "outputs": [
    {
     "ename": "NameError",
     "evalue": "name 'df2' is not defined",
     "output_type": "error",
     "traceback": [
      "\u001b[1;31m---------------------------------------------------------------------------\u001b[0m",
      "\u001b[1;31mNameError\u001b[0m                                 Traceback (most recent call last)",
      "Input \u001b[1;32mIn [4]\u001b[0m, in \u001b[0;36m<cell line: 1>\u001b[1;34m()\u001b[0m\n\u001b[1;32m----> 1\u001b[0m \u001b[43mdf2\u001b[49m\u001b[38;5;241m.\u001b[39mto_excel(\u001b[38;5;124m'\u001b[39m\u001b[38;5;124m../../data/students17082025.xlsx\u001b[39m\u001b[38;5;124m'\u001b[39m,encoding\u001b[38;5;241m=\u001b[39m\u001b[38;5;124m'\u001b[39m\u001b[38;5;124mutf-8\u001b[39m\u001b[38;5;124m'\u001b[39m, errors\u001b[38;5;241m=\u001b[39m\u001b[38;5;124m'\u001b[39m\u001b[38;5;124mignore\u001b[39m\u001b[38;5;124m'\u001b[39m,index\u001b[38;5;241m=\u001b[39m\u001b[38;5;28;01mFalse\u001b[39;00m)\n",
      "\u001b[1;31mNameError\u001b[0m: name 'df2' is not defined"
     ]
    }
   ],
   "source": [
    "df2.to_excel('../../data/students17082025.xlsx',encoding='utf-8', errors='ignore',index=False) #error occur (UTF 8 encoded)"
   ]
  },
  {
   "cell_type": "markdown",
   "id": "ff083e0b-130c-450c-878d-d947c637d687",
   "metadata": {},
   "source": [
    "## Own Data\n",
    "- Synthetic\n",
    "- Simulate\n",
    "- Same value"
   ]
  },
  {
   "cell_type": "markdown",
   "id": "a07af25a-e182-4fa3-b738-de4a1d430eeb",
   "metadata": {},
   "source": [
    "## Data from CSV\n",
    "## file in laptop\n",
    "- download from : https://catalog.data.gov/dataset/real-estate-sales-2001-2018 (125 MB)\n",
    " - listing of all real estate sales with a sales price of $2,000 or greater that occur between October 1 and September 30 of each year. For each sale record, the file includes: town, property address, date of sale, property type (residential, apartment, commercial, industrial or vacant land), sales price, and property assessment.\n",
    "- IMF : https://data.imf.org/en/datasets/IMF.STA:QGDP_WCA (187 KB)\n",
    " - This dataset provides a snapshot of the economic activity of the world and selected country aggregates on a quarterly basis. It offers quarterly measurements of Gross Domestic Product (GDP). Quarterly estimates are disseminated on a seasonally adjusted basis.\n",
    "- Country and capitals; https://ec.europa.eu/eurostat/statistics-explained/images/9/9f/Country_Codes_and_Names.xlsx (XL)\n",
    "- max size of excel the maximum number of rows is 1,048,576 and the maximum number of columns is 16,384 (XFD)"
   ]
  },
  {
   "cell_type": "code",
   "execution_count": null,
   "id": "db4e498f-327d-4c8f-9a19-9f45af08b203",
   "metadata": {},
   "outputs": [],
   "source": []
  },
  {
   "cell_type": "code",
   "execution_count": null,
   "id": "ed1bad52-803e-4595-9cb8-1055fc5a65b3",
   "metadata": {},
   "outputs": [],
   "source": []
  }
 ],
 "metadata": {
  "kernelspec": {
   "display_name": "Python 3 (ipykernel)",
   "language": "python",
   "name": "python3"
  },
  "language_info": {
   "codemirror_mode": {
    "name": "ipython",
    "version": 3
   },
   "file_extension": ".py",
   "mimetype": "text/x-python",
   "name": "python",
   "nbconvert_exporter": "python",
   "pygments_lexer": "ipython3",
   "version": "3.9.12"
  }
 },
 "nbformat": 4,
 "nbformat_minor": 5
}
